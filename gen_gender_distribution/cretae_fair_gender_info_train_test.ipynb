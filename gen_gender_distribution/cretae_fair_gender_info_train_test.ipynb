{
 "cells": [
  {
   "cell_type": "code",
   "execution_count": 1,
   "id": "formal-tuner",
   "metadata": {},
   "outputs": [],
   "source": [
    "import pandas as pd \n",
    "import numpy as np\n",
    "import matplotlib.pyplot as plt"
   ]
  },
  {
   "cell_type": "markdown",
   "id": "prime-organic",
   "metadata": {},
   "source": [
    "## Train-Test Influencers:"
   ]
  },
  {
   "cell_type": "code",
   "execution_count": 2,
   "id": "opposite-miami",
   "metadata": {},
   "outputs": [
    {
     "name": "stdout",
     "output_type": "stream",
     "text": [
      "------------50000\n",
      "------------100000\n",
      "------------150000\n",
      "------------200000\n"
     ]
    }
   ],
   "source": [
    "cascades_file = \"./data/total.txt\"\n",
    "f = open(cascades_file, \"r+\") \n",
    "ids = set()\n",
    "counter = 0\n",
    "train_influencers = {}\n",
    "test_influencers = {}\n",
    "n=5\n",
    "    \n",
    "for line in f: \n",
    "        \n",
    "    date = line.split(\" \")[1].split(\"-\")\n",
    "    original_user_id = line.split(\" \")[2]\n",
    "        \n",
    "    retweets = next(f).replace(\" \\n\",\"\").split(\" \") #****************************CHANDU: Updated*******************************************\n",
    "        #----- keep only the cascades and the nodes that are active in train (2011.10.29 -2012.9.28) and test (2012.9.28 -2012.10.29)\n",
    "           \n",
    "    retweet_ids = []        \n",
    "        #------- last month at test\n",
    "    if int(date[0])==2012 and ((int(date[1])>=9 and int(date[2])>=28)  or (int(date[1])==10  and int(date[2])<=29)):\n",
    "        ids.add(original_user_id)\n",
    "        for i in range(0,len(retweets)-1,2):\n",
    "            ids.add(retweets[i])\n",
    "            retweet_ids.append(retweets[i])\n",
    "        if original_user_id not in test_influencers:\n",
    "            test_influencers[original_user_id] =  retweet_ids\n",
    "        else:\n",
    "            test_influencers[original_user_id] =  test_influencers[original_user_id] + retweet_ids\n",
    "            \n",
    "\n",
    "    \n",
    "       #------ The rest are used for training\n",
    "    elif (int(date[0])==2012 and int(date[1])<9 and int(date[2])<28) or (int(date[0])==2011 and int(date[1])>=10 and int(date[2])>=29):\n",
    "        ids.add(original_user_id)          \n",
    "        for i in range(0,len(retweets)-1,2):\n",
    "            ids.add(retweets[i])\n",
    "            retweet_ids.append(retweets[i])\n",
    "        if original_user_id not in train_influencers:\n",
    "            train_influencers[original_user_id] =  retweet_ids\n",
    "        else:\n",
    "            train_influencers[original_user_id] =  train_influencers[original_user_id] + retweet_ids\n",
    "            \n",
    "            \n",
    "           \n",
    "    counter+=1    \n",
    "    if (counter % 50000==0):\n",
    "        print(\"------------\"+str(counter))\n",
    "f.close()\n",
    "    "
   ]
  },
  {
   "cell_type": "code",
   "execution_count": 3,
   "id": "sticky-landscape",
   "metadata": {},
   "outputs": [
    {
     "data": {
      "text/plain": [
       "26158"
      ]
     },
     "execution_count": 3,
     "metadata": {},
     "output_type": "execute_result"
    }
   ],
   "source": [
    "len(train_influencers)"
   ]
  },
  {
   "cell_type": "code",
   "execution_count": 4,
   "id": "orange-rapid",
   "metadata": {},
   "outputs": [
    {
     "data": {
      "text/plain": [
       "8641"
      ]
     },
     "execution_count": 4,
     "metadata": {},
     "output_type": "execute_result"
    }
   ],
   "source": [
    "len(test_influencers)"
   ]
  },
  {
   "cell_type": "code",
   "execution_count": 5,
   "id": "micro-syndication",
   "metadata": {},
   "outputs": [
    {
     "data": {
      "text/plain": [
       "['1500872', '153602', '519514', '490872', '218165']"
      ]
     },
     "execution_count": 5,
     "metadata": {},
     "output_type": "execute_result"
    }
   ],
   "source": [
    "train_inflencers_list = [ key for key in train_influencers.keys()]\n",
    "train_inflencers_set = set(train_inflencers_list)\n",
    "train_inflencers_list[:5]"
   ]
  },
  {
   "cell_type": "code",
   "execution_count": 6,
   "id": "liable-florida",
   "metadata": {},
   "outputs": [
    {
     "data": {
      "text/plain": [
       "26158"
      ]
     },
     "execution_count": 6,
     "metadata": {},
     "output_type": "execute_result"
    }
   ],
   "source": [
    "len(train_inflencers_list)"
   ]
  },
  {
   "cell_type": "code",
   "execution_count": 7,
   "id": "informational-stress",
   "metadata": {},
   "outputs": [
    {
     "data": {
      "text/plain": [
       "['280058', '1674506', '519514', '497197', '1297718']"
      ]
     },
     "execution_count": 7,
     "metadata": {},
     "output_type": "execute_result"
    }
   ],
   "source": [
    "test_inflencers_list = [ key for key in test_influencers.keys()]\n",
    "test_inflencers_set = set(test_inflencers_list)\n",
    "test_inflencers_list[:5]"
   ]
  },
  {
   "cell_type": "code",
   "execution_count": 8,
   "id": "cooperative-mixture",
   "metadata": {},
   "outputs": [
    {
     "data": {
      "text/plain": [
       "8641"
      ]
     },
     "execution_count": 8,
     "metadata": {},
     "output_type": "execute_result"
    }
   ],
   "source": [
    "len(test_inflencers_list)"
   ]
  },
  {
   "cell_type": "code",
   "execution_count": 9,
   "id": "increased-conspiracy",
   "metadata": {},
   "outputs": [
    {
     "data": {
      "text/plain": [
       "4940"
      ]
     },
     "execution_count": 9,
     "metadata": {},
     "output_type": "execute_result"
    }
   ],
   "source": [
    "train_test_inflencers_set = train_inflencers_set.intersection(test_inflencers_set)\n",
    "len(train_test_inflencers_set)"
   ]
  },
  {
   "cell_type": "code",
   "execution_count": 10,
   "id": "american-module",
   "metadata": {},
   "outputs": [
    {
     "data": {
      "text/plain": [
       "['799852', '475590', '1419120', '151197', '833664']"
      ]
     },
     "execution_count": 10,
     "metadata": {},
     "output_type": "execute_result"
    }
   ],
   "source": [
    "list(train_test_inflencers_set)[:5]"
   ]
  },
  {
   "cell_type": "code",
   "execution_count": 11,
   "id": "lesbian-chemistry",
   "metadata": {},
   "outputs": [],
   "source": [
    "infected_length_dict = {}"
   ]
  },
  {
   "cell_type": "code",
   "execution_count": 12,
   "id": "sought-charleston",
   "metadata": {},
   "outputs": [],
   "source": [
    "for e in list(train_test_inflencers_set):\n",
    "    infected_length_dict[e] = len(train_influencers[e]) + len(test_influencers[e])\n",
    "    "
   ]
  },
  {
   "cell_type": "code",
   "execution_count": 17,
   "id": "vertical-orleans",
   "metadata": {},
   "outputs": [],
   "source": [
    "infected_length_dict= {k: v for k, v in sorted(infected_length_dict.items(), key=lambda item: -item[1])}"
   ]
  },
  {
   "cell_type": "code",
   "execution_count": 18,
   "id": "classical-riverside",
   "metadata": {},
   "outputs": [
    {
     "data": {
      "text/plain": [
       "['519514', '490872', '482551', '820273', '235238']"
      ]
     },
     "execution_count": 18,
     "metadata": {},
     "output_type": "execute_result"
    }
   ],
   "source": [
    "biased_influencers = [ key for key in infected_length_dict.keys()][:n]\n",
    "biased_influencers"
   ]
  },
  {
   "cell_type": "markdown",
   "id": "expressed-african",
   "metadata": {},
   "source": [
    "##  Create Gender Dictionary:"
   ]
  },
  {
   "cell_type": "code",
   "execution_count": 19,
   "id": "searching-bread",
   "metadata": {},
   "outputs": [],
   "source": [
    "gender_dict = {}\n",
    "for index in biased_influencers:\n",
    "    for el in train_influencers[index]:\n",
    "        if el not in gender_dict:\n",
    "            gender_dict[el] = '1'\n",
    "     \n",
    "    for el in test_influencers[index]:\n",
    "        if el not in gender_dict:\n",
    "            gender_dict[el] = '1'\n",
    "            "
   ]
  },
  {
   "cell_type": "code",
   "execution_count": 20,
   "id": "special-fancy",
   "metadata": {},
   "outputs": [
    {
     "data": {
      "text/plain": [
       "562575"
      ]
     },
     "execution_count": 20,
     "metadata": {},
     "output_type": "execute_result"
    }
   ],
   "source": [
    "len(gender_dict)"
   ]
  },
  {
   "cell_type": "code",
   "execution_count": 21,
   "id": "flexible-knitting",
   "metadata": {},
   "outputs": [],
   "source": [
    "for user_id in list(ids):\n",
    "    if user_id not in gender_dict:\n",
    "        gender_dict[user_id] = str(np.random.choice([0,1], 1 ,replace=True, p=[0.65,0.35])[0])"
   ]
  },
  {
   "cell_type": "code",
   "execution_count": 22,
   "id": "complete-timer",
   "metadata": {},
   "outputs": [
    {
     "data": {
      "text/plain": [
       "1170873"
      ]
     },
     "execution_count": 22,
     "metadata": {},
     "output_type": "execute_result"
    }
   ],
   "source": [
    "len(gender_dict)"
   ]
  },
  {
   "cell_type": "code",
   "execution_count": 23,
   "id": "numeric-frederick",
   "metadata": {},
   "outputs": [
    {
     "data": {
      "text/plain": [
       "1170873"
      ]
     },
     "execution_count": 23,
     "metadata": {},
     "output_type": "execute_result"
    }
   ],
   "source": [
    "len(ids)"
   ]
  },
  {
   "cell_type": "markdown",
   "id": "drawn-doubt",
   "metadata": {},
   "source": [
    "## Calculate Male Fraction:"
   ]
  },
  {
   "cell_type": "code",
   "execution_count": 24,
   "id": "unlike-satin",
   "metadata": {},
   "outputs": [],
   "source": [
    "male_list = []\n",
    "female_list = []\n",
    "for key in gender_dict.keys():\n",
    "    if gender_dict[key] == '1':\n",
    "        male_list.append(1)\n",
    "    else:\n",
    "        female_list.append(1)\n",
    "        "
   ]
  },
  {
   "cell_type": "code",
   "execution_count": 25,
   "id": "proof-alliance",
   "metadata": {},
   "outputs": [
    {
     "data": {
      "text/plain": [
       "775142"
      ]
     },
     "execution_count": 25,
     "metadata": {},
     "output_type": "execute_result"
    }
   ],
   "source": [
    "len(male_list)"
   ]
  },
  {
   "cell_type": "code",
   "execution_count": 26,
   "id": "mysterious-fight",
   "metadata": {},
   "outputs": [
    {
     "data": {
      "text/plain": [
       "395731"
      ]
     },
     "execution_count": 26,
     "metadata": {},
     "output_type": "execute_result"
    }
   ],
   "source": [
    "len(female_list)"
   ]
  },
  {
   "cell_type": "code",
   "execution_count": 27,
   "id": "express-lingerie",
   "metadata": {},
   "outputs": [
    {
     "data": {
      "text/plain": [
       "1170873"
      ]
     },
     "execution_count": 27,
     "metadata": {},
     "output_type": "execute_result"
    }
   ],
   "source": [
    "len(male_list) + len(female_list)"
   ]
  },
  {
   "cell_type": "code",
   "execution_count": 28,
   "id": "narrow-laundry",
   "metadata": {},
   "outputs": [
    {
     "data": {
      "text/plain": [
       "0.6620205607269106"
      ]
     },
     "execution_count": 28,
     "metadata": {},
     "output_type": "execute_result"
    }
   ],
   "source": [
    "len(male_list) / (len(male_list) + len(female_list))"
   ]
  },
  {
   "cell_type": "code",
   "execution_count": 29,
   "id": "inside-momentum",
   "metadata": {},
   "outputs": [
    {
     "data": {
      "text/plain": [
       "['537924',\n",
       " '169868',\n",
       " '1490395',\n",
       " '1336687',\n",
       " '1205682',\n",
       " '1715509',\n",
       " '868627',\n",
       " '377807',\n",
       " '175124',\n",
       " '777557']"
      ]
     },
     "execution_count": 29,
     "metadata": {},
     "output_type": "execute_result"
    }
   ],
   "source": [
    "ids = list()\n",
    "for i in gender_dict.keys():\n",
    "    ids.append(i)\n",
    "    \n",
    "ids[:10]    "
   ]
  },
  {
   "cell_type": "code",
   "execution_count": 30,
   "id": "inside-virgin",
   "metadata": {},
   "outputs": [
    {
     "data": {
      "text/plain": [
       "['1', '1', '1', '1', '1', '1', '1', '1', '1', '1']"
      ]
     },
     "execution_count": 30,
     "metadata": {},
     "output_type": "execute_result"
    }
   ],
   "source": [
    "ids_gender = list()\n",
    "for i in gender_dict.values():\n",
    "    ids_gender.append(i)\n",
    "    \n",
    "ids_gender[:10] "
   ]
  },
  {
   "cell_type": "code",
   "execution_count": 31,
   "id": "offensive-construction",
   "metadata": {},
   "outputs": [],
   "source": [
    "df_profile =pd.DataFrame({   \"user_id\":ids,\"gender\":ids_gender})"
   ]
  },
  {
   "cell_type": "code",
   "execution_count": 32,
   "id": "unknown-trinidad",
   "metadata": {},
   "outputs": [
    {
     "data": {
      "text/html": [
       "<div>\n",
       "<style scoped>\n",
       "    .dataframe tbody tr th:only-of-type {\n",
       "        vertical-align: middle;\n",
       "    }\n",
       "\n",
       "    .dataframe tbody tr th {\n",
       "        vertical-align: top;\n",
       "    }\n",
       "\n",
       "    .dataframe thead th {\n",
       "        text-align: right;\n",
       "    }\n",
       "</style>\n",
       "<table border=\"1\" class=\"dataframe\">\n",
       "  <thead>\n",
       "    <tr style=\"text-align: right;\">\n",
       "      <th></th>\n",
       "      <th>user_id</th>\n",
       "      <th>gender</th>\n",
       "    </tr>\n",
       "  </thead>\n",
       "  <tbody>\n",
       "    <tr>\n",
       "      <th>0</th>\n",
       "      <td>537924</td>\n",
       "      <td>1</td>\n",
       "    </tr>\n",
       "    <tr>\n",
       "      <th>1</th>\n",
       "      <td>169868</td>\n",
       "      <td>1</td>\n",
       "    </tr>\n",
       "    <tr>\n",
       "      <th>2</th>\n",
       "      <td>1490395</td>\n",
       "      <td>1</td>\n",
       "    </tr>\n",
       "    <tr>\n",
       "      <th>3</th>\n",
       "      <td>1336687</td>\n",
       "      <td>1</td>\n",
       "    </tr>\n",
       "    <tr>\n",
       "      <th>4</th>\n",
       "      <td>1205682</td>\n",
       "      <td>1</td>\n",
       "    </tr>\n",
       "    <tr>\n",
       "      <th>...</th>\n",
       "      <td>...</td>\n",
       "      <td>...</td>\n",
       "    </tr>\n",
       "    <tr>\n",
       "      <th>1170868</th>\n",
       "      <td>1124789</td>\n",
       "      <td>0</td>\n",
       "    </tr>\n",
       "    <tr>\n",
       "      <th>1170869</th>\n",
       "      <td>1426408</td>\n",
       "      <td>0</td>\n",
       "    </tr>\n",
       "    <tr>\n",
       "      <th>1170870</th>\n",
       "      <td>1688856</td>\n",
       "      <td>0</td>\n",
       "    </tr>\n",
       "    <tr>\n",
       "      <th>1170871</th>\n",
       "      <td>278798</td>\n",
       "      <td>0</td>\n",
       "    </tr>\n",
       "    <tr>\n",
       "      <th>1170872</th>\n",
       "      <td>1473971</td>\n",
       "      <td>1</td>\n",
       "    </tr>\n",
       "  </tbody>\n",
       "</table>\n",
       "<p>1170873 rows × 2 columns</p>\n",
       "</div>"
      ],
      "text/plain": [
       "         user_id gender\n",
       "0         537924      1\n",
       "1         169868      1\n",
       "2        1490395      1\n",
       "3        1336687      1\n",
       "4        1205682      1\n",
       "...          ...    ...\n",
       "1170868  1124789      0\n",
       "1170869  1426408      0\n",
       "1170870  1688856      0\n",
       "1170871   278798      0\n",
       "1170872  1473971      1\n",
       "\n",
       "[1170873 rows x 2 columns]"
      ]
     },
     "execution_count": 32,
     "metadata": {},
     "output_type": "execute_result"
    }
   ],
   "source": [
    "df_profile"
   ]
  },
  {
   "cell_type": "code",
   "execution_count": 33,
   "id": "ceramic-induction",
   "metadata": {},
   "outputs": [],
   "source": [
    "df_profile.to_csv(\"./data/profile_gender.csv\")"
   ]
  },
  {
   "cell_type": "markdown",
   "id": "assigned-baltimore",
   "metadata": {},
   "source": [
    "## Fraction of Males Plot:"
   ]
  },
  {
   "cell_type": "code",
   "execution_count": 169,
   "id": "least-firmware",
   "metadata": {},
   "outputs": [
    {
     "ename": "KeyboardInterrupt",
     "evalue": "",
     "output_type": "error",
     "traceback": [
      "\u001b[0;31m---------------------------------------------------------------------------\u001b[0m",
      "\u001b[0;31mKeyboardInterrupt\u001b[0m                         Traceback (most recent call last)",
      "\u001b[0;32m<ipython-input-169-a91442b227c0>\u001b[0m in \u001b[0;36m<module>\u001b[0;34m\u001b[0m\n\u001b[1;32m      6\u001b[0m \u001b[0msplit_content_list\u001b[0m\u001b[0;34m=\u001b[0m\u001b[0;34m[\u001b[0m\u001b[0;34m]\u001b[0m\u001b[0;34m\u001b[0m\u001b[0;34m\u001b[0m\u001b[0m\n\u001b[1;32m      7\u001b[0m \u001b[0;32mfor\u001b[0m \u001b[0mi\u001b[0m \u001b[0;32min\u001b[0m \u001b[0msplit_content\u001b[0m\u001b[0;34m:\u001b[0m\u001b[0;34m\u001b[0m\u001b[0;34m\u001b[0m\u001b[0m\n\u001b[0;32m----> 8\u001b[0;31m     \u001b[0msplit_content_list\u001b[0m\u001b[0;34m.\u001b[0m\u001b[0mappend\u001b[0m\u001b[0;34m(\u001b[0m\u001b[0mi\u001b[0m\u001b[0;34m.\u001b[0m\u001b[0msplit\u001b[0m\u001b[0;34m(\u001b[0m\u001b[0;34m)\u001b[0m\u001b[0;34m)\u001b[0m\u001b[0;34m\u001b[0m\u001b[0;34m\u001b[0m\u001b[0m\n\u001b[0m",
      "\u001b[0;31mKeyboardInterrupt\u001b[0m: "
     ]
    }
   ],
   "source": [
    "path = \"./data/total.txt\"\n",
    "with open(path, 'r',  encoding=\"ISO-8859-1\") as f:\n",
    "    contents = f.read()\n",
    "split_content = contents.split('\\n')\n",
    "split_content = split_content[0:-1]\n",
    "split_content_list=[]\n",
    "for i in split_content:\n",
    "    split_content_list.append(i.split())"
   ]
  },
  {
   "cell_type": "code",
   "execution_count": null,
   "id": "excited-complement",
   "metadata": {},
   "outputs": [],
   "source": [
    "print(split_content_list[0])\n",
    "print(split_content_list[1])"
   ]
  },
  {
   "cell_type": "code",
   "execution_count": null,
   "id": "macro-funeral",
   "metadata": {},
   "outputs": [],
   "source": [
    "odd_rows = []\n",
    "for index,el in enumerate(split_content_list):\n",
    "    if index%2 ==0:\n",
    "        el=el\n",
    "        odd_rows.append(el)"
   ]
  },
  {
   "cell_type": "code",
   "execution_count": null,
   "id": "latin-hundred",
   "metadata": {},
   "outputs": [],
   "source": [
    "even_rows = []\n",
    "for index,el in enumerate(split_content_list):\n",
    "    if index%2 ==1:\n",
    "             even_rows.append(el)"
   ]
  },
  {
   "cell_type": "code",
   "execution_count": null,
   "id": "rolled-tiffany",
   "metadata": {},
   "outputs": [],
   "source": [
    "odd_rows[0], even_rows[0]"
   ]
  },
  {
   "cell_type": "code",
   "execution_count": null,
   "id": "suffering-uganda",
   "metadata": {},
   "outputs": [],
   "source": [
    "y = even_rows[:2]\n",
    "print(y)"
   ]
  },
  {
   "cell_type": "code",
   "execution_count": null,
   "id": "smart-pantyhose",
   "metadata": {},
   "outputs": [],
   "source": [
    "cascades_male_list = []\n",
    "for C in even_rows:\n",
    "    cascades_gender = []\n",
    "    for index in range(len(C)):        \n",
    "        if index%2 == 0:\n",
    "            cascades_gender.append(gender_dict[C[index]])\n",
    "    cascades_male_list.append(cascades_gender)\n",
    "    \n"
   ]
  },
  {
   "cell_type": "code",
   "execution_count": null,
   "id": "selected-elephant",
   "metadata": {},
   "outputs": [],
   "source": [
    "gender_dict['864182']"
   ]
  },
  {
   "cell_type": "code",
   "execution_count": null,
   "id": "inner-memory",
   "metadata": {},
   "outputs": [],
   "source": [
    "len(cascades_male_list)"
   ]
  },
  {
   "cell_type": "code",
   "execution_count": null,
   "id": "hungarian-maryland",
   "metadata": {},
   "outputs": [],
   "source": [
    "cascades_male_list"
   ]
  },
  {
   "cell_type": "code",
   "execution_count": null,
   "id": "killing-princeton",
   "metadata": {},
   "outputs": [],
   "source": [
    "cascades_male_array = np.array(cascades_male_list)"
   ]
  },
  {
   "cell_type": "code",
   "execution_count": null,
   "id": "beautiful-providence",
   "metadata": {},
   "outputs": [],
   "source": [
    "plt.figure(figsize=(20,10))\n",
    "plt.style.use('ggplot')\n",
    "plt.hist(cascades_male_array, bins = 50, color = 'teal', alpha = 0.5)\n",
    "plt.xlabel('fraction of males per cascade', fontsize=18, fontweight='bold')\n",
    "plt.xticks(rotation=90)\n",
    "plt.title(\"Distribution of Males Fraction in Test Cascades\",  fontsize=22)\n",
    "plt.tick_params(axis='both', which='major', labelsize=16)\n",
    "plt.show()\n",
    "plt.savefig(\"males_fraction_test_cascades.png\")"
   ]
  }
 ],
 "metadata": {
  "kernelspec": {
   "display_name": "conda_python3",
   "language": "python",
   "name": "conda_python3"
  },
  "language_info": {
   "codemirror_mode": {
    "name": "ipython",
    "version": 3
   },
   "file_extension": ".py",
   "mimetype": "text/x-python",
   "name": "python",
   "nbconvert_exporter": "python",
   "pygments_lexer": "ipython3",
   "version": "3.6.10"
  }
 },
 "nbformat": 4,
 "nbformat_minor": 5
}
