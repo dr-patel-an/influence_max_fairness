{
 "cells": [
  {
   "cell_type": "code",
   "execution_count": 10,
   "id": "organizational-ireland",
   "metadata": {},
   "outputs": [],
   "source": [
    "import numpy as np\n",
    "import pandas as psd"
   ]
  },
  {
   "cell_type": "code",
   "execution_count": 2,
   "id": "willing-equity",
   "metadata": {},
   "outputs": [],
   "source": [
    "def get_gender_dict(path):\n",
    "    with open(path, 'r',  encoding=\"ISO-8859-1\") as f:\n",
    "        contents = f.read()\n",
    "    split_content = contents.split('\\n')\n",
    "    split_content = split_content[0:-1]\n",
    "    split_content_list=[]\n",
    "    for i in split_content:\n",
    "        split_content_list.append(i.split(\",\")[1:])\n",
    "    split_content_list=split_content_list[1:]\n",
    "    \n",
    "    gender_dict = {}\n",
    "    for split_data in split_content_list:\n",
    "        gender_dict[split_data[0]] = split_data[1]\n",
    "    f.close()    \n",
    "    return gender_dict"
   ]
  },
  {
   "cell_type": "code",
   "execution_count": 3,
   "id": "focal-transaction",
   "metadata": {},
   "outputs": [],
   "source": [
    "path_gender_profile = \"./data/profile_gender.csv\"\n",
    "user_gender_dictionary = get_gender_dict(path_gender_profile)\n",
    "male_list = []\n",
    "female_list = []\n",
    "for key in user_gender_dictionary.keys():\n",
    "    if user_gender_dictionary[key] == '1':\n",
    "        male_list.append(1)\n",
    "    else:\n",
    "        female_list.append(1)\n",
    "N_males = len(male_list) \n",
    "N_females = len(female_list)"
   ]
  },
  {
   "cell_type": "code",
   "execution_count": 4,
   "id": "infectious-victor",
   "metadata": {},
   "outputs": [
    {
     "name": "stdout",
     "output_type": "stream",
     "text": [
      "775142 395731\n"
     ]
    }
   ],
   "source": [
    "print(N_males, N_females)"
   ]
  },
  {
   "cell_type": "code",
   "execution_count": 5,
   "id": "suspected-strip",
   "metadata": {},
   "outputs": [],
   "source": [
    "def fairness_score(I_males, I_females, N_males, N_females):\n",
    "    male_ratio = I_males/N_males\n",
    "    female_ratio = I_females/N_females\n",
    "    ratio = [male_ratio, female_ratio]\n",
    "    prod = 1\n",
    "    for x in ratio:\n",
    "        prod *= x\n",
    "    return prod/(np.max(ratio)**len(ratio))"
   ]
  },
  {
   "cell_type": "code",
   "execution_count": 6,
   "id": "sound-digit",
   "metadata": {},
   "outputs": [],
   "source": [
    "f = open(\"./data/train_cascades.txt\",\"r\")"
   ]
  },
  {
   "cell_type": "code",
   "execution_count": 7,
   "id": "official-fancy",
   "metadata": {},
   "outputs": [],
   "source": [
    "influencer_cascades_dict = {}"
   ]
  },
  {
   "cell_type": "code",
   "execution_count": 8,
   "id": "sound-satisfaction",
   "metadata": {},
   "outputs": [],
   "source": [
    "for line in f:\n",
    "    initiators = []\n",
    "    cascade = line.replace(\"\\n\",\"\").split(\";\")\n",
    "    cascade_nodes = list(map(lambda x:  x.split(\" \")[0],cascade[1:]))\n",
    "    op_id = cascade_nodes[0]\n",
    "    if op_id not in influencer_cascades_dict:\n",
    "        influencer_cascades_dict[op_id] = cascade_nodes\n",
    "    else:\n",
    "        influencer_cascades_dict[op_id] = influencer_cascades_dict[op_id] + cascade_nodes\n"
   ]
  },
  {
   "cell_type": "code",
   "execution_count": 9,
   "id": "closing-analysis",
   "metadata": {},
   "outputs": [
    {
     "name": "stdout",
     "output_type": "stream",
     "text": [
      "Evaluating fairnsess score of each influencer in train_cascades\n"
     ]
    }
   ],
   "source": [
    "print(\"Evaluating fairnsess score of each influencer in train_cascades\")\n",
    "influencer_fairness = open(\"./data/influencer_fairness.txt\",\"w\")\n",
    "##########################CHANDU: EXPERIMENT ##############################    \n",
    "for k in influencer_cascades_dict.keys():\n",
    "    cascade_unique = set(influencer_cascades_dict[k])\n",
    "    male_list_cascade = []\n",
    "    female_list_cascade = []\n",
    "    for cascade_node in cascade_unique:\n",
    "        gender = user_gender_dictionary[cascade_node]\n",
    "        if gender == '1':\n",
    "            male_list_cascade.append(1)\n",
    "        else:\n",
    "            female_list_cascade.append(1)\n",
    "\n",
    "    fainess_score =  round(fairness_score(len(male_list_cascade), len(female_list_cascade), N_males, N_females), 4)\n",
    "    influencer_fairness.write(str(k)+\",\"+ str(fainess_score) + \"\\n\")    \n",
    "        \n",
    "influencer_fairness.close()"
   ]
  },
  {
   "cell_type": "code",
   "execution_count": 10,
   "id": "seventh-hungary",
   "metadata": {},
   "outputs": [],
   "source": [
    "influencer_fairness_read = open(\"./data/influencer_fairness.txt\",\"r\")\n",
    "gender_dict_read = {}\n",
    "for line in influencer_fairness_read:\n",
    "    data = line.replace(\"\\n\",\"\").split(\",\")\n",
    "    gender_dict_read[data[0]] = data[1]\n",
    "   "
   ]
  },
  {
   "cell_type": "code",
   "execution_count": null,
   "id": "alive-interest",
   "metadata": {},
   "outputs": [],
   "source": []
  }
 ],
 "metadata": {
  "kernelspec": {
   "display_name": "conda_python3",
   "language": "python",
   "name": "conda_python3"
  },
  "language_info": {
   "codemirror_mode": {
    "name": "ipython",
    "version": 3
   },
   "file_extension": ".py",
   "mimetype": "text/x-python",
   "name": "python",
   "nbconvert_exporter": "python",
   "pygments_lexer": "ipython3",
   "version": "3.6.13"
  }
 },
 "nbformat": 4,
 "nbformat_minor": 5
}
