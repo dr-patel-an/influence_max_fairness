{
 "cells": [
  {
   "cell_type": "code",
   "execution_count": 1,
   "id": "d6208b7c",
   "metadata": {},
   "outputs": [],
   "source": [
    "import numpy as np\n",
    "import pandas as pd"
   ]
  },
  {
   "cell_type": "code",
   "execution_count": 2,
   "id": "f091b142",
   "metadata": {},
   "outputs": [],
   "source": [
    "# df1 = pd.read_csv('./test_cascade_metrics_Approach_C_1.csv')"
   ]
  },
  {
   "cell_type": "code",
   "execution_count": 3,
   "id": "0db5859d",
   "metadata": {},
   "outputs": [],
   "source": [
    "# df2 = pd.read_csv('./test_cascade_metrics_Approach_C_2.csv')"
   ]
  },
  {
   "cell_type": "code",
   "execution_count": 4,
   "id": "c7bfe38a",
   "metadata": {},
   "outputs": [],
   "source": [
    "# df3 = pd.read_csv('./test_cascade_metrics_Approach_C_3.csv')"
   ]
  },
  {
   "cell_type": "code",
   "execution_count": 5,
   "id": "b82aa746",
   "metadata": {},
   "outputs": [],
   "source": [
    "# df = pd.concat([df1, df2, df3])"
   ]
  },
  {
   "cell_type": "code",
   "execution_count": 6,
   "id": "fc344589",
   "metadata": {},
   "outputs": [],
   "source": [
    "df = pd.read_csv('./test_cascade_metrics_Approach_B.csv')"
   ]
  },
  {
   "cell_type": "code",
   "execution_count": 7,
   "id": "c1b3f2d9",
   "metadata": {},
   "outputs": [],
   "source": [
    "df.reset_index(inplace = True)"
   ]
  },
  {
   "cell_type": "code",
   "execution_count": 8,
   "id": "8c5d22f7",
   "metadata": {},
   "outputs": [
    {
     "data": {
      "text/html": [
       "<div>\n",
       "<style scoped>\n",
       "    .dataframe tbody tr th:only-of-type {\n",
       "        vertical-align: middle;\n",
       "    }\n",
       "\n",
       "    .dataframe tbody tr th {\n",
       "        vertical-align: top;\n",
       "    }\n",
       "\n",
       "    .dataframe thead th {\n",
       "        text-align: right;\n",
       "    }\n",
       "</style>\n",
       "<table border=\"1\" class=\"dataframe\">\n",
       "  <thead>\n",
       "    <tr style=\"text-align: right;\">\n",
       "      <th></th>\n",
       "      <th>index</th>\n",
       "      <th>seed_file_name</th>\n",
       "      <th>total_distincet_infected_nodes</th>\n",
       "      <th>total_males_in_casc</th>\n",
       "      <th>total_females_in_cas</th>\n",
       "      <th>males_fraction_in_casc</th>\n",
       "      <th>females_fraction_in_casc</th>\n",
       "      <th>fairness_score_value</th>\n",
       "    </tr>\n",
       "  </thead>\n",
       "  <tbody>\n",
       "    <tr>\n",
       "      <th>0</th>\n",
       "      <td>0</td>\n",
       "      <td>../Data/Weibo/Seeds/final_seeds_5g_05a_100s_1b...</td>\n",
       "      <td>270479</td>\n",
       "      <td>116895</td>\n",
       "      <td>153584</td>\n",
       "      <td>0.4322</td>\n",
       "      <td>0.5678</td>\n",
       "      <td>0.3875</td>\n",
       "    </tr>\n",
       "    <tr>\n",
       "      <th>1</th>\n",
       "      <td>1</td>\n",
       "      <td>../Data/Weibo/Seeds/final_seeds_5g_05a_20s_1b.txt</td>\n",
       "      <td>127711</td>\n",
       "      <td>58545</td>\n",
       "      <td>69166</td>\n",
       "      <td>0.4584</td>\n",
       "      <td>0.5416</td>\n",
       "      <td>0.4310</td>\n",
       "    </tr>\n",
       "    <tr>\n",
       "      <th>2</th>\n",
       "      <td>2</td>\n",
       "      <td>../Data/Weibo/Seeds/final_seeds_5g_05a_60s_1b.txt</td>\n",
       "      <td>253093</td>\n",
       "      <td>109373</td>\n",
       "      <td>143720</td>\n",
       "      <td>0.4321</td>\n",
       "      <td>0.5679</td>\n",
       "      <td>0.3875</td>\n",
       "    </tr>\n",
       "  </tbody>\n",
       "</table>\n",
       "</div>"
      ],
      "text/plain": [
       "   index                                     seed_file_name  \\\n",
       "0      0  ../Data/Weibo/Seeds/final_seeds_5g_05a_100s_1b...   \n",
       "1      1  ../Data/Weibo/Seeds/final_seeds_5g_05a_20s_1b.txt   \n",
       "2      2  ../Data/Weibo/Seeds/final_seeds_5g_05a_60s_1b.txt   \n",
       "\n",
       "   total_distincet_infected_nodes  total_males_in_casc  total_females_in_cas  \\\n",
       "0                          270479               116895                153584   \n",
       "1                          127711                58545                 69166   \n",
       "2                          253093               109373                143720   \n",
       "\n",
       "   males_fraction_in_casc  females_fraction_in_casc  fairness_score_value  \n",
       "0                  0.4322                    0.5678                0.3875  \n",
       "1                  0.4584                    0.5416                0.4310  \n",
       "2                  0.4321                    0.5679                0.3875  "
      ]
     },
     "execution_count": 8,
     "metadata": {},
     "output_type": "execute_result"
    }
   ],
   "source": [
    "df.head(3)"
   ]
  },
  {
   "cell_type": "code",
   "execution_count": 9,
   "id": "f414c364",
   "metadata": {},
   "outputs": [
    {
     "data": {
      "text/html": [
       "<div>\n",
       "<style scoped>\n",
       "    .dataframe tbody tr th:only-of-type {\n",
       "        vertical-align: middle;\n",
       "    }\n",
       "\n",
       "    .dataframe tbody tr th {\n",
       "        vertical-align: top;\n",
       "    }\n",
       "\n",
       "    .dataframe thead th {\n",
       "        text-align: right;\n",
       "    }\n",
       "</style>\n",
       "<table border=\"1\" class=\"dataframe\">\n",
       "  <thead>\n",
       "    <tr style=\"text-align: right;\">\n",
       "      <th></th>\n",
       "      <th>index</th>\n",
       "      <th>seed_file_name</th>\n",
       "      <th>total_distincet_infected_nodes</th>\n",
       "      <th>total_males_in_casc</th>\n",
       "      <th>total_females_in_cas</th>\n",
       "      <th>males_fraction_in_casc</th>\n",
       "      <th>females_fraction_in_casc</th>\n",
       "      <th>fairness_score_value</th>\n",
       "    </tr>\n",
       "  </thead>\n",
       "  <tbody>\n",
       "    <tr>\n",
       "      <th>27</th>\n",
       "      <td>27</td>\n",
       "      <td>../Data/Weibo/Seeds/final_seeds_5g_05a_100s_5b...</td>\n",
       "      <td>206080</td>\n",
       "      <td>94560</td>\n",
       "      <td>111520</td>\n",
       "      <td>0.4589</td>\n",
       "      <td>0.5411</td>\n",
       "      <td>0.4317</td>\n",
       "    </tr>\n",
       "    <tr>\n",
       "      <th>28</th>\n",
       "      <td>28</td>\n",
       "      <td>../Data/Weibo/Seeds/final_seeds_5g_05a_60s_7b.txt</td>\n",
       "      <td>190995</td>\n",
       "      <td>80847</td>\n",
       "      <td>110148</td>\n",
       "      <td>0.4233</td>\n",
       "      <td>0.5767</td>\n",
       "      <td>0.3737</td>\n",
       "    </tr>\n",
       "    <tr>\n",
       "      <th>29</th>\n",
       "      <td>29</td>\n",
       "      <td>../Data/Weibo/Seeds/final_seeds_5g_05a_100s_7b...</td>\n",
       "      <td>257878</td>\n",
       "      <td>116648</td>\n",
       "      <td>141230</td>\n",
       "      <td>0.4523</td>\n",
       "      <td>0.5477</td>\n",
       "      <td>0.4206</td>\n",
       "    </tr>\n",
       "  </tbody>\n",
       "</table>\n",
       "</div>"
      ],
      "text/plain": [
       "    index                                     seed_file_name  \\\n",
       "27     27  ../Data/Weibo/Seeds/final_seeds_5g_05a_100s_5b...   \n",
       "28     28  ../Data/Weibo/Seeds/final_seeds_5g_05a_60s_7b.txt   \n",
       "29     29  ../Data/Weibo/Seeds/final_seeds_5g_05a_100s_7b...   \n",
       "\n",
       "    total_distincet_infected_nodes  total_males_in_casc  total_females_in_cas  \\\n",
       "27                          206080                94560                111520   \n",
       "28                          190995                80847                110148   \n",
       "29                          257878               116648                141230   \n",
       "\n",
       "    males_fraction_in_casc  females_fraction_in_casc  fairness_score_value  \n",
       "27                  0.4589                    0.5411                0.4317  \n",
       "28                  0.4233                    0.5767                0.3737  \n",
       "29                  0.4523                    0.5477                0.4206  "
      ]
     },
     "execution_count": 9,
     "metadata": {},
     "output_type": "execute_result"
    }
   ],
   "source": [
    "df.tail(3)"
   ]
  },
  {
   "cell_type": "code",
   "execution_count": 10,
   "id": "c4024589",
   "metadata": {},
   "outputs": [
    {
     "data": {
      "text/plain": [
       "750"
      ]
     },
     "execution_count": 10,
     "metadata": {},
     "output_type": "execute_result"
    }
   ],
   "source": [
    "def get_seed_length(filename):\n",
    "    filename_list = filename.split('_')\n",
    "    seed_length = int(filename_list[4].split('s')[0])\n",
    "    return seed_length\n",
    "get_seed_length('../Data/Weibo/Seeds/final_seeds_5g_05a_750s_5b.txt')    "
   ]
  },
  {
   "cell_type": "code",
   "execution_count": 11,
   "id": "a31bb705",
   "metadata": {},
   "outputs": [
    {
     "data": {
      "text/html": [
       "<div>\n",
       "<style scoped>\n",
       "    .dataframe tbody tr th:only-of-type {\n",
       "        vertical-align: middle;\n",
       "    }\n",
       "\n",
       "    .dataframe tbody tr th {\n",
       "        vertical-align: top;\n",
       "    }\n",
       "\n",
       "    .dataframe thead th {\n",
       "        text-align: right;\n",
       "    }\n",
       "</style>\n",
       "<table border=\"1\" class=\"dataframe\">\n",
       "  <thead>\n",
       "    <tr style=\"text-align: right;\">\n",
       "      <th></th>\n",
       "      <th>index</th>\n",
       "      <th>seed_file_name</th>\n",
       "      <th>total_distincet_infected_nodes</th>\n",
       "      <th>total_males_in_casc</th>\n",
       "      <th>total_females_in_cas</th>\n",
       "      <th>males_fraction_in_casc</th>\n",
       "      <th>females_fraction_in_casc</th>\n",
       "      <th>fairness_score_value</th>\n",
       "      <th>seed_length</th>\n",
       "    </tr>\n",
       "  </thead>\n",
       "  <tbody>\n",
       "    <tr>\n",
       "      <th>0</th>\n",
       "      <td>0</td>\n",
       "      <td>../Data/Weibo/Seeds/final_seeds_5g_05a_100s_1b...</td>\n",
       "      <td>270479</td>\n",
       "      <td>116895</td>\n",
       "      <td>153584</td>\n",
       "      <td>0.4322</td>\n",
       "      <td>0.5678</td>\n",
       "      <td>0.3875</td>\n",
       "      <td>100</td>\n",
       "    </tr>\n",
       "    <tr>\n",
       "      <th>1</th>\n",
       "      <td>1</td>\n",
       "      <td>../Data/Weibo/Seeds/final_seeds_5g_05a_20s_1b.txt</td>\n",
       "      <td>127711</td>\n",
       "      <td>58545</td>\n",
       "      <td>69166</td>\n",
       "      <td>0.4584</td>\n",
       "      <td>0.5416</td>\n",
       "      <td>0.4310</td>\n",
       "      <td>20</td>\n",
       "    </tr>\n",
       "    <tr>\n",
       "      <th>2</th>\n",
       "      <td>2</td>\n",
       "      <td>../Data/Weibo/Seeds/final_seeds_5g_05a_60s_1b.txt</td>\n",
       "      <td>253093</td>\n",
       "      <td>109373</td>\n",
       "      <td>143720</td>\n",
       "      <td>0.4321</td>\n",
       "      <td>0.5679</td>\n",
       "      <td>0.3875</td>\n",
       "      <td>60</td>\n",
       "    </tr>\n",
       "  </tbody>\n",
       "</table>\n",
       "</div>"
      ],
      "text/plain": [
       "   index                                     seed_file_name  \\\n",
       "0      0  ../Data/Weibo/Seeds/final_seeds_5g_05a_100s_1b...   \n",
       "1      1  ../Data/Weibo/Seeds/final_seeds_5g_05a_20s_1b.txt   \n",
       "2      2  ../Data/Weibo/Seeds/final_seeds_5g_05a_60s_1b.txt   \n",
       "\n",
       "   total_distincet_infected_nodes  total_males_in_casc  total_females_in_cas  \\\n",
       "0                          270479               116895                153584   \n",
       "1                          127711                58545                 69166   \n",
       "2                          253093               109373                143720   \n",
       "\n",
       "   males_fraction_in_casc  females_fraction_in_casc  fairness_score_value  \\\n",
       "0                  0.4322                    0.5678                0.3875   \n",
       "1                  0.4584                    0.5416                0.4310   \n",
       "2                  0.4321                    0.5679                0.3875   \n",
       "\n",
       "   seed_length  \n",
       "0          100  \n",
       "1           20  \n",
       "2           60  "
      ]
     },
     "execution_count": 11,
     "metadata": {},
     "output_type": "execute_result"
    }
   ],
   "source": [
    "df['seed_length'] = df['seed_file_name'].apply(get_seed_length)\n",
    "df.head(3)"
   ]
  },
  {
   "cell_type": "markdown",
   "id": "14a7c142",
   "metadata": {},
   "source": [
    "## Train Max Bound:"
   ]
  },
  {
   "cell_type": "markdown",
   "id": "d99aa0e8",
   "metadata": {},
   "source": [
    "```\n",
    "TRAIN CASCADE: Max bound on infectors by seed size 20 = 737941\n",
    "TRAIN CASCADE: Max bound on infectors by seed size 40 = 828025\n",
    "TRAIN CASCADE: Max bound on infectors by seed size 60 = 876110\n",
    "TRAIN CASCADE: Max bound on infectors by seed size 80 = 905726\n",
    "TRAIN CASCADE: Max bound on infectors by seed size 100 = 925411\n",
    "\n",
    "TRAIN CASCADE: Max bound on fairness by seed size 20 is 0.9985 with 6152 infectors\n",
    "TRAIN CASCADE: Max bound on fairness by seed size 40 is 0.998 with 26602 infectors\n",
    "TRAIN CASCADE: Max bound on fairness by seed size 60 is 0.9962 with 28222 infectors\n",
    "TRAIN CASCADE: Max bound on fairness by seed size 80 is 0.9965 with 28605 infectors\n",
    "TRAIN CASCADE: Max bound on fairness by seed size 100 is 0.9969 with 39160 infectors\n",
    "```"
   ]
  },
  {
   "cell_type": "code",
   "execution_count": 12,
   "id": "2e3c4bee",
   "metadata": {},
   "outputs": [],
   "source": [
    "train_seed_max_bound_dict = {\n",
    "    '20': [737941, 0.9985],\n",
    "    '40': [828025, 0.998],\n",
    "    '60': [876110, 0.9962],\n",
    "    '80': [905726, 0.9965],       \n",
    "    '100': [925411, 0.9969]\n",
    "}"
   ]
  },
  {
   "cell_type": "markdown",
   "id": "4a3f81c4",
   "metadata": {},
   "source": [
    "## Test Max Bound:"
   ]
  },
  {
   "cell_type": "markdown",
   "id": "a7236c02",
   "metadata": {},
   "source": [
    "```\n",
    "TEST CASCADE: Max bound on infectors by seed size 20 = 271299\n",
    "TEST CASCADE: Max bound on infectors by seed size 40 = 337414\n",
    "TEST CASCADE: Max bound on infectors by seed size 60 = 379391\n",
    "TEST CASCADE: Max bound on infectors by seed size 80 = 407558\n",
    "TEST CASCADE: Max bound on infectors by seed size 100 = 429435\n",
    "\n",
    "TEST CASCADE: Max bound on fairness by seed size 20 is 0.9987 with 12396 infectors\n",
    "TEST CASCADE: Max bound on fairness by seed size 40 is 0.9976 with 16080 infectors\n",
    "TEST CASCADE: Max bound on fairness by seed size 60 is 0.9922 with 37770 infectors\n",
    "TEST CASCADE: Max bound on fairness by seed size 80 is 0.9934 with 45066 infectors\n",
    "TEST CASCADE: Max bound on fairness by seed size 100 is 0.992 with 57226 infectors\n",
    "```"
   ]
  },
  {
   "cell_type": "code",
   "execution_count": 13,
   "id": "42253089",
   "metadata": {},
   "outputs": [],
   "source": [
    "test_seed_max_bound_dict = {\n",
    "    '20': [271299, 0.9987],\n",
    "    '40': [337414, 0.9976],\n",
    "    '60': [379391, 0.9922],\n",
    "    '80': [407558, 0.9934 ],       \n",
    "    '100': [429435, 0.992]\n",
    "}"
   ]
  },
  {
   "cell_type": "code",
   "execution_count": 14,
   "id": "32b28433",
   "metadata": {},
   "outputs": [
    {
     "data": {
      "text/plain": [
       "Index(['index', 'seed_file_name', 'total_distincet_infected_nodes',\n",
       "       'total_males_in_casc', 'total_females_in_cas', 'males_fraction_in_casc',\n",
       "       'females_fraction_in_casc', 'fairness_score_value', 'seed_length'],\n",
       "      dtype='object')"
      ]
     },
     "execution_count": 14,
     "metadata": {},
     "output_type": "execute_result"
    }
   ],
   "source": [
    "df.columns"
   ]
  },
  {
   "cell_type": "code",
   "execution_count": 15,
   "id": "82a583d4",
   "metadata": {},
   "outputs": [
    {
     "name": "stdout",
     "output_type": "stream",
     "text": [
      "1.0036\n",
      "0.5018\n"
     ]
    }
   ],
   "source": [
    "def get_objective_value(total_distincet_infected_nodes, fairness_score_value, seed_length):\n",
    "    max_fairness = test_seed_max_bound_dict[str(seed_length)][1]\n",
    "    max_infected = test_seed_max_bound_dict[str(seed_length)][0]    \n",
    "    fairness_frac = fairness_score_value / max_fairness\n",
    "    infected_frac = total_distincet_infected_nodes / max_infected\n",
    "#     print(max_infected, max_fairness,  fairness_frac, infected_frac )\n",
    "    objective_value = (fairness_frac + infected_frac)/2\n",
    "    return np.round(objective_value, 4)\n",
    "\n",
    "print(get_objective_value(429435, 0.992, '100'))\n",
    "print(get_objective_value(429435/2, 0.992/2, '100'))"
   ]
  },
  {
   "cell_type": "code",
   "execution_count": null,
   "id": "7cbfc894",
   "metadata": {},
   "outputs": [],
   "source": [
    "df['objective_value'] = df.apply(lambda x: get_objective_value(x.total_distincet_infected_nodes, x.fairness_score_value, x.seed_length), axis=1)\n",
    "df.head(3)"
   ]
  },
  {
   "cell_type": "code",
   "execution_count": null,
   "id": "0803362d",
   "metadata": {},
   "outputs": [],
   "source": [
    "df2 = df.sort_values(['seed_length', 'objective_value'])\n",
    "df2"
   ]
  },
  {
   "cell_type": "code",
   "execution_count": null,
   "id": "bd03bbed",
   "metadata": {},
   "outputs": [],
   "source": [
    "df2.to_csv('./sorted_test_objective_values_approach_B.csv', index = False)"
   ]
  },
  {
   "cell_type": "code",
   "execution_count": null,
   "id": "9d17cfd5",
   "metadata": {},
   "outputs": [],
   "source": []
  }
 ],
 "metadata": {
  "kernelspec": {
   "display_name": "conda_python3",
   "language": "python",
   "name": "conda_python3"
  },
  "language_info": {
   "codemirror_mode": {
    "name": "ipython",
    "version": 3
   },
   "file_extension": ".py",
   "mimetype": "text/x-python",
   "name": "python",
   "nbconvert_exporter": "python",
   "pygments_lexer": "ipython3",
   "version": "3.6.13"
  }
 },
 "nbformat": 4,
 "nbformat_minor": 5
}
