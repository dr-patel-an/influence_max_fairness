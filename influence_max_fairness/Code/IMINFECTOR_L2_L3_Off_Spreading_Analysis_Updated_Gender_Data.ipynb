{
 "cells": [
  {
   "cell_type": "code",
   "execution_count": 102,
   "id": "municipal-fields",
   "metadata": {},
   "outputs": [],
   "source": [
    "import pandas as pd\n",
    "import numpy as np\n",
    "import matplotlib.pyplot as plt"
   ]
  },
  {
   "cell_type": "code",
   "execution_count": 103,
   "id": "cardiovascular-bleeding",
   "metadata": {},
   "outputs": [],
   "source": [
    "# seed_file_path = \"../Data/Weibo/Seeds/final_seeds.txt\"\n",
    "seed_file_path = \"../Data/Weibo/Seeds/final_seeds_without_L2_L3.txt\"\n",
    "# seed_file_path = \"../Data/Weibo/Seeds/final_seeds_IMINFECTOR.txt\"\n",
    "gender_profile_path = \"../Data/Weibo/Init_Data/profile_gender.csv\"\n",
    "test_cascade_path = \"../Data/Weibo/Init_Data/test_cascades.txt\""
   ]
  },
  {
   "cell_type": "code",
   "execution_count": 104,
   "id": "weekly-peter",
   "metadata": {},
   "outputs": [
    {
     "data": {
      "text/plain": [
       "1000"
      ]
     },
     "execution_count": 104,
     "metadata": {},
     "output_type": "execute_result"
    }
   ],
   "source": [
    "f = open(seed_file_path,\"r\")\n",
    "l = f.read().replace(\"\\n\",\" \")\n",
    "seed_set_all = [x for x in l.split(\" \") if x!=''][:1000]\n",
    "f.close()\n",
    "\n",
    "len(seed_set_all)"
   ]
  },
  {
   "cell_type": "code",
   "execution_count": 105,
   "id": "million-blair",
   "metadata": {},
   "outputs": [],
   "source": [
    "def DNI(seed_set_cascades):\n",
    "    \"\"\"\n",
    "    Measure the number of distinct nodes in the test cascades started of the seed set\n",
    "    \"\"\"\n",
    "    combined = set()    \n",
    "    for i in seed_set_cascades.keys():\n",
    "        for j in seed_set_cascades[i]:    \n",
    "            combined = combined.union(j)\n",
    "    return len(combined)"
   ]
  },
  {
   "cell_type": "code",
   "execution_count": 120,
   "id": "sixth-substitute",
   "metadata": {},
   "outputs": [],
   "source": [
    "def DNI_fairness(seed_set_cascades, gender_dict):\n",
    "    \"\"\"\n",
    "    Measure the fraction of males in the toal cascades\n",
    "    \"\"\"\n",
    "    combined = set()    \n",
    "    for i in seed_set_cascades.keys():\n",
    "        for j in seed_set_cascades[i]:    \n",
    "            combined = combined.union(j)\n",
    "    list_DNI = list(combined)\n",
    "    males = []\n",
    "    females = []\n",
    "    for n in list_DNI:\n",
    "        if gender_dict[n] == '1':\n",
    "            males.append(n)\n",
    "        else:\n",
    "            females.append(n)\n",
    "    print(\"Males in Test Cascade: {} \\n Females in Test Cascade: {}\".format(str(len(males)), str(len(females))))\n",
    "    return len(males)/(len(males) + len(females))"
   ]
  },
  {
   "cell_type": "code",
   "execution_count": 107,
   "id": "korean-packaging",
   "metadata": {},
   "outputs": [],
   "source": [
    "def get_gender_dict(path):\n",
    "    with open(path, 'r',  encoding=\"ISO-8859-1\") as f:\n",
    "        contents = f.read()\n",
    "    split_content = contents.split('\\n')\n",
    "    split_content = split_content[0:-1]\n",
    "    split_content_list=[]\n",
    "    for i in split_content:\n",
    "        split_content_list.append(i.split(\",\")[1:])\n",
    "    split_content_list=split_content_list[1:]\n",
    "    \n",
    "    gender_dict = {}\n",
    "    for split_data in split_content_list:\n",
    "        gender_dict[split_data[0]] = split_data[1]\n",
    "    f.close()    \n",
    "    return gender_dict"
   ]
  },
  {
   "cell_type": "code",
   "execution_count": 108,
   "id": "recent-request",
   "metadata": {},
   "outputs": [
    {
     "name": "stdout",
     "output_type": "stream",
     "text": [
      "Seeds found : 900\n",
      "Distinct Nodes Infected:  506375\n"
     ]
    }
   ],
   "source": [
    "seed_cascades =  {}\n",
    "seed_set = set()\n",
    "for s in seed_set_all:\n",
    "    seed_cascades[str(s)] = []\n",
    "\n",
    "with open(test_cascade_path) as f:\n",
    "    for line in f:\n",
    "        cascade = line.split(\";\")\n",
    "        op_id = cascade[1].split(\" \")[0]\n",
    "        cascade = set(map(lambda x: x.split(\" \")[0],cascade[2:]))\n",
    "        if op_id in seed_cascades:\n",
    "            seed_cascades[op_id].append(cascade)\n",
    "            seed_set.add(op_id)\n",
    "                         \n",
    "            \n",
    "seed_set_cascades = { seed: seed_cascades[seed] for seed in seed_set if len(seed_cascades[seed])>0 }\n",
    "spreading_DNI = DNI(seed_set_cascades)\n",
    "\n",
    "print(\"Seeds found :\",len(seed_set_cascades))\n",
    "print(\"Distinct Nodes Infected: \", spreading_DNI)\n",
    "f.close()"
   ]
  },
  {
   "cell_type": "code",
   "execution_count": 109,
   "id": "equivalent-directory",
   "metadata": {},
   "outputs": [],
   "source": [
    "gender_dict = get_gender_dict(gender_profile_path)"
   ]
  },
  {
   "cell_type": "code",
   "execution_count": 110,
   "id": "decreased-bracket",
   "metadata": {},
   "outputs": [
    {
     "data": {
      "text/plain": [
       "1170873"
      ]
     },
     "execution_count": 110,
     "metadata": {},
     "output_type": "execute_result"
    }
   ],
   "source": [
    "len(gender_dict)"
   ]
  },
  {
   "cell_type": "code",
   "execution_count": 121,
   "id": "agreed-stocks",
   "metadata": {},
   "outputs": [
    {
     "name": "stdout",
     "output_type": "stream",
     "text": [
      "Males in Test Cascade: 393580 \n",
      " Females in Test Cascade: 112795\n"
     ]
    },
    {
     "data": {
      "text/plain": [
       "0.7772500617131572"
      ]
     },
     "execution_count": 121,
     "metadata": {},
     "output_type": "execute_result"
    }
   ],
   "source": [
    "DNI_fairness(seed_set_cascades, gender_dict)"
   ]
  },
  {
   "cell_type": "code",
   "execution_count": 122,
   "id": "prepared-hydrogen",
   "metadata": {},
   "outputs": [
    {
     "data": {
      "text/plain": [
       "0.5072979340994747"
      ]
     },
     "execution_count": 122,
     "metadata": {},
     "output_type": "execute_result"
    }
   ],
   "source": [
    "393580/775836"
   ]
  },
  {
   "cell_type": "code",
   "execution_count": 123,
   "id": "going-resistance",
   "metadata": {},
   "outputs": [
    {
     "data": {
      "text/plain": [
       "0.28553021615696755"
      ]
     },
     "execution_count": 123,
     "metadata": {},
     "output_type": "execute_result"
    }
   ],
   "source": [
    "112795/395037"
   ]
  },
  {
   "cell_type": "code",
   "execution_count": 124,
   "id": "removable-temperature",
   "metadata": {},
   "outputs": [],
   "source": [
    "def fairness_score(I_males, I_females, N_males, N_females):\n",
    "    num = abs((I_males/N_males)-(I_females/N_females))\n",
    "    denom = max((I_males/N_males), (I_females/N_females))\n",
    "    value = (1 - (num/denom))\n",
    "    return value"
   ]
  },
  {
   "cell_type": "code",
   "execution_count": 125,
   "id": "detailed-growing",
   "metadata": {},
   "outputs": [
    {
     "data": {
      "text/plain": [
       "0.5628452176999773"
      ]
     },
     "execution_count": 125,
     "metadata": {},
     "output_type": "execute_result"
    }
   ],
   "source": [
    "fairness_score(393580, 112795, 775836, 395037)"
   ]
  },
  {
   "cell_type": "code",
   "execution_count": null,
   "id": "advanced-mouth",
   "metadata": {},
   "outputs": [],
   "source": []
  },
  {
   "cell_type": "code",
   "execution_count": 112,
   "id": "furnished-proxy",
   "metadata": {},
   "outputs": [],
   "source": [
    "def DNI_fairness_dist(seed_set_cascades, gender_dict):\n",
    "    \"\"\"\n",
    "    Measure the distribution of males in the toal cascades\n",
    "    \"\"\"\n",
    "     \n",
    "    males_dist = []\n",
    "    for i in seed_set_cascades.keys():\n",
    "        for j in seed_set_cascades[i]: \n",
    "            males = []\n",
    "            females = []\n",
    "            for n in j:\n",
    "                if gender_dict[n] == '1':\n",
    "                    males.append(n)\n",
    "                else:\n",
    "                    females.append(n)\n",
    "            males_frac_cascade = len(males)/(len(males) + len(females))\n",
    "            males_dist.append(males_frac_cascade)\n",
    "    return np.array(males_dist)  "
   ]
  },
  {
   "cell_type": "code",
   "execution_count": 113,
   "id": "chicken-marsh",
   "metadata": {},
   "outputs": [],
   "source": [
    "males_dist = DNI_fairness_dist(seed_set_cascades, gender_dict)"
   ]
  },
  {
   "cell_type": "code",
   "execution_count": 114,
   "id": "appropriate-jackson",
   "metadata": {},
   "outputs": [
    {
     "data": {
      "image/png": "[encoded data removed]",
      "text/plain": [
       "<Figure size 1440x720 with 1 Axes>"
      ]
     },
     "metadata": {},
     "output_type": "display_data"
    },
    {
     "data": {
      "text/plain": [
       "<Figure size 432x288 with 0 Axes>"
      ]
     },
     "metadata": {},
     "output_type": "display_data"
    }
   ],
   "source": [
    "plt.figure(figsize=(20,10))\n",
    "plt.style.use('ggplot')\n",
    "plt.hist(males_dist, bins = 50, color = 'teal', alpha = 0.5)\n",
    "plt.xlabel('fraction of males per cascade', fontsize=18, fontweight='bold')\n",
    "plt.xticks(rotation=90)\n",
    "plt.title(\"Distribution of Males Fraction in Test Cascades\",  fontsize=22)\n",
    "plt.tick_params(axis='both', which='major', labelsize=16)\n",
    "plt.show()\n",
    "plt.savefig(\"males_fraction_test_cascades.png\")"
   ]
  },
  {
   "cell_type": "code",
   "execution_count": 115,
   "id": "flying-constitutional",
   "metadata": {},
   "outputs": [
    {
     "data": {
      "text/plain": [
       "0.8133227687153827"
      ]
     },
     "execution_count": 115,
     "metadata": {},
     "output_type": "execute_result"
    }
   ],
   "source": [
    "np.mean(males_dist)"
   ]
  },
  {
   "cell_type": "code",
   "execution_count": 116,
   "id": "wicked-transformation",
   "metadata": {},
   "outputs": [],
   "source": [
    "def DNI_fairness_dist_by_influencer(seed_set_cascades, gender_dict):\n",
    "    \"\"\"\n",
    "    Measure the distribution of males by influencer\n",
    "    \"\"\"\n",
    "     \n",
    "    males_dist = []\n",
    "    for i in seed_set_cascades.keys():\n",
    "        influencer_spread_set = ()\n",
    "        for j in seed_set_cascades[i]: \n",
    "            influencer_spread_set = influencer_spread_set.union(j)\n",
    "            \n",
    "        males = []\n",
    "        females = []\n",
    "        for n in influencer_spread_set:\n",
    "            if gender_dict[n] == '1':\n",
    "                males.append(n)\n",
    "            else:\n",
    "                females.append(n)\n",
    "        males_frac_cascade = len(males)/(len(males) + len(females))\n",
    "        males_dist.append(males_frac_cascade)\n",
    "    return np.array(males_dist)  "
   ]
  },
  {
   "cell_type": "code",
   "execution_count": 117,
   "id": "given-showcase",
   "metadata": {},
   "outputs": [],
   "source": [
    "males_dist_by_influencer = DNI_fairness_dist(seed_set_cascades, gender_dict)"
   ]
  },
  {
   "cell_type": "code",
   "execution_count": 118,
   "id": "engaged-peninsula",
   "metadata": {},
   "outputs": [
    {
     "data": {
      "image/png": "[encoded data removed]",
      "text/plain": [
       "<Figure size 1440x720 with 1 Axes>"
      ]
     },
     "metadata": {},
     "output_type": "display_data"
    },
    {
     "data": {
      "text/plain": [
       "<Figure size 432x288 with 0 Axes>"
      ]
     },
     "metadata": {},
     "output_type": "display_data"
    }
   ],
   "source": [
    "plt.figure(figsize=(20,10))\n",
    "plt.style.use('ggplot')\n",
    "plt.hist(males_dist_by_influencer, bins = 50, color = 'teal', alpha = 0.5)\n",
    "plt.xlabel('fraction of males infected by influencer', fontsize=18, fontweight='bold')\n",
    "plt.xticks(rotation=90)\n",
    "plt.title(\"Distribution of Infected Males Fraction in Test Cascades\",  fontsize=22)\n",
    "plt.tick_params(axis='both', which='major', labelsize=16)\n",
    "plt.show()\n",
    "plt.savefig(\"males_fraction_test_cascades.png\")"
   ]
  },
  {
   "cell_type": "code",
   "execution_count": null,
   "id": "touched-declaration",
   "metadata": {},
   "outputs": [],
   "source": []
  }
 ],
 "metadata": {
  "kernelspec": {
   "display_name": "conda_python3",
   "language": "python",
   "name": "conda_python3"
  },
  "language_info": {
   "codemirror_mode": {
    "name": "ipython",
    "version": 3
   },
   "file_extension": ".py",
   "mimetype": "text/x-python",
   "name": "python",
   "nbconvert_exporter": "python",
   "pygments_lexer": "ipython3",
   "version": "3.6.10"
  }
 },
 "nbformat": 4,
 "nbformat_minor": 5
}
