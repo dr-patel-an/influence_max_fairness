{
 "cells": [
  {
   "cell_type": "code",
   "execution_count": 1,
   "id": "8580011f",
   "metadata": {},
   "outputs": [],
   "source": [
    "import numpy as np\n",
    "import pandas as pd"
   ]
  },
  {
   "cell_type": "code",
   "execution_count": 3,
   "id": "4787c615",
   "metadata": {},
   "outputs": [],
   "source": [
    "df = pd.read_csv('./test_cascade_metrics_Approach_B.csv')"
   ]
  },
  {
   "cell_type": "code",
   "execution_count": 4,
   "id": "7d48b75f",
   "metadata": {},
   "outputs": [],
   "source": [
    "# df2 = pd.read_csv('./test_cascade_metrics_Approach_C_2.csv')"
   ]
  },
  {
   "cell_type": "code",
   "execution_count": 5,
   "id": "8df7d3ce",
   "metadata": {},
   "outputs": [],
   "source": [
    "# df3 = pd.read_csv('./test_cascade_metrics_Approach_C_3.csv')"
   ]
  },
  {
   "cell_type": "code",
   "execution_count": 6,
   "id": "cb3d6b8d",
   "metadata": {},
   "outputs": [],
   "source": [
    "# df = pd.concat([df1, df2, df3])"
   ]
  },
  {
   "cell_type": "code",
   "execution_count": 7,
   "id": "20482d12",
   "metadata": {},
   "outputs": [],
   "source": [
    "df.reset_index(inplace = True)"
   ]
  },
  {
   "cell_type": "code",
   "execution_count": 8,
   "id": "7a28c959",
   "metadata": {},
   "outputs": [
    {
     "data": {
      "text/html": [
       "<div>\n",
       "<style scoped>\n",
       "    .dataframe tbody tr th:only-of-type {\n",
       "        vertical-align: middle;\n",
       "    }\n",
       "\n",
       "    .dataframe tbody tr th {\n",
       "        vertical-align: top;\n",
       "    }\n",
       "\n",
       "    .dataframe thead th {\n",
       "        text-align: right;\n",
       "    }\n",
       "</style>\n",
       "<table border=\"1\" class=\"dataframe\">\n",
       "  <thead>\n",
       "    <tr style=\"text-align: right;\">\n",
       "      <th></th>\n",
       "      <th>index</th>\n",
       "      <th>seed_file_name</th>\n",
       "      <th>total_distincet_infected_nodes</th>\n",
       "      <th>total_males_in_casc</th>\n",
       "      <th>total_females_in_cas</th>\n",
       "      <th>males_fraction_in_casc</th>\n",
       "      <th>females_fraction_in_casc</th>\n",
       "      <th>fairness_score_value</th>\n",
       "    </tr>\n",
       "  </thead>\n",
       "  <tbody>\n",
       "    <tr>\n",
       "      <th>0</th>\n",
       "      <td>0</td>\n",
       "      <td>../Data/Weibo/Seeds/final_seeds_5g_05a_200s.txt</td>\n",
       "      <td>356184</td>\n",
       "      <td>147301</td>\n",
       "      <td>208883</td>\n",
       "      <td>0.4136</td>\n",
       "      <td>0.5864</td>\n",
       "      <td>0.3591</td>\n",
       "    </tr>\n",
       "    <tr>\n",
       "      <th>1</th>\n",
       "      <td>1</td>\n",
       "      <td>../Data/Weibo/Seeds/final_seeds_5g_05a_500s.txt</td>\n",
       "      <td>445120</td>\n",
       "      <td>186457</td>\n",
       "      <td>258663</td>\n",
       "      <td>0.4189</td>\n",
       "      <td>0.5811</td>\n",
       "      <td>0.3670</td>\n",
       "    </tr>\n",
       "    <tr>\n",
       "      <th>2</th>\n",
       "      <td>2</td>\n",
       "      <td>../Data/Weibo/Seeds/final_seeds_5g_05a_100s.txt</td>\n",
       "      <td>244741</td>\n",
       "      <td>103843</td>\n",
       "      <td>140898</td>\n",
       "      <td>0.4243</td>\n",
       "      <td>0.5757</td>\n",
       "      <td>0.3753</td>\n",
       "    </tr>\n",
       "  </tbody>\n",
       "</table>\n",
       "</div>"
      ],
      "text/plain": [
       "   index                                   seed_file_name  \\\n",
       "0      0  ../Data/Weibo/Seeds/final_seeds_5g_05a_200s.txt   \n",
       "1      1  ../Data/Weibo/Seeds/final_seeds_5g_05a_500s.txt   \n",
       "2      2  ../Data/Weibo/Seeds/final_seeds_5g_05a_100s.txt   \n",
       "\n",
       "   total_distincet_infected_nodes  total_males_in_casc  total_females_in_cas  \\\n",
       "0                          356184               147301                208883   \n",
       "1                          445120               186457                258663   \n",
       "2                          244741               103843                140898   \n",
       "\n",
       "   males_fraction_in_casc  females_fraction_in_casc  fairness_score_value  \n",
       "0                  0.4136                    0.5864                0.3591  \n",
       "1                  0.4189                    0.5811                0.3670  \n",
       "2                  0.4243                    0.5757                0.3753  "
      ]
     },
     "execution_count": 8,
     "metadata": {},
     "output_type": "execute_result"
    }
   ],
   "source": [
    "df.head(3)"
   ]
  },
  {
   "cell_type": "code",
   "execution_count": 9,
   "id": "75e24081",
   "metadata": {},
   "outputs": [
    {
     "data": {
      "text/html": [
       "<div>\n",
       "<style scoped>\n",
       "    .dataframe tbody tr th:only-of-type {\n",
       "        vertical-align: middle;\n",
       "    }\n",
       "\n",
       "    .dataframe tbody tr th {\n",
       "        vertical-align: top;\n",
       "    }\n",
       "\n",
       "    .dataframe thead th {\n",
       "        text-align: right;\n",
       "    }\n",
       "</style>\n",
       "<table border=\"1\" class=\"dataframe\">\n",
       "  <thead>\n",
       "    <tr style=\"text-align: right;\">\n",
       "      <th></th>\n",
       "      <th>index</th>\n",
       "      <th>seed_file_name</th>\n",
       "      <th>total_distincet_infected_nodes</th>\n",
       "      <th>total_males_in_casc</th>\n",
       "      <th>total_females_in_cas</th>\n",
       "      <th>males_fraction_in_casc</th>\n",
       "      <th>females_fraction_in_casc</th>\n",
       "      <th>fairness_score_value</th>\n",
       "    </tr>\n",
       "  </thead>\n",
       "  <tbody>\n",
       "    <tr>\n",
       "      <th>2</th>\n",
       "      <td>2</td>\n",
       "      <td>../Data/Weibo/Seeds/final_seeds_5g_05a_100s.txt</td>\n",
       "      <td>244741</td>\n",
       "      <td>103843</td>\n",
       "      <td>140898</td>\n",
       "      <td>0.4243</td>\n",
       "      <td>0.5757</td>\n",
       "      <td>0.3753</td>\n",
       "    </tr>\n",
       "    <tr>\n",
       "      <th>3</th>\n",
       "      <td>3</td>\n",
       "      <td>../Data/Weibo/Seeds/final_seeds_5g_05a_300s.txt</td>\n",
       "      <td>397408</td>\n",
       "      <td>165261</td>\n",
       "      <td>232147</td>\n",
       "      <td>0.4158</td>\n",
       "      <td>0.5842</td>\n",
       "      <td>0.3625</td>\n",
       "    </tr>\n",
       "    <tr>\n",
       "      <th>4</th>\n",
       "      <td>4</td>\n",
       "      <td>../Data/Weibo/Seeds/final_seeds_5g_05a_400s.txt</td>\n",
       "      <td>414687</td>\n",
       "      <td>173592</td>\n",
       "      <td>241095</td>\n",
       "      <td>0.4186</td>\n",
       "      <td>0.5814</td>\n",
       "      <td>0.3666</td>\n",
       "    </tr>\n",
       "  </tbody>\n",
       "</table>\n",
       "</div>"
      ],
      "text/plain": [
       "   index                                   seed_file_name  \\\n",
       "2      2  ../Data/Weibo/Seeds/final_seeds_5g_05a_100s.txt   \n",
       "3      3  ../Data/Weibo/Seeds/final_seeds_5g_05a_300s.txt   \n",
       "4      4  ../Data/Weibo/Seeds/final_seeds_5g_05a_400s.txt   \n",
       "\n",
       "   total_distincet_infected_nodes  total_males_in_casc  total_females_in_cas  \\\n",
       "2                          244741               103843                140898   \n",
       "3                          397408               165261                232147   \n",
       "4                          414687               173592                241095   \n",
       "\n",
       "   males_fraction_in_casc  females_fraction_in_casc  fairness_score_value  \n",
       "2                  0.4243                    0.5757                0.3753  \n",
       "3                  0.4158                    0.5842                0.3625  \n",
       "4                  0.4186                    0.5814                0.3666  "
      ]
     },
     "execution_count": 9,
     "metadata": {},
     "output_type": "execute_result"
    }
   ],
   "source": [
    "df.tail(3)"
   ]
  },
  {
   "cell_type": "code",
   "execution_count": 10,
   "id": "9b5b4f27",
   "metadata": {},
   "outputs": [
    {
     "data": {
      "text/plain": [
       "750"
      ]
     },
     "execution_count": 10,
     "metadata": {},
     "output_type": "execute_result"
    }
   ],
   "source": [
    "def get_seed_length(filename):\n",
    "    filename_list = filename.split('_')\n",
    "    seed_length = int(filename_list[4].split('s')[0])\n",
    "    return seed_length\n",
    "get_seed_length('../Data/Weibo/Seeds/final_seeds_5g_05a_750s_5b.txt')    "
   ]
  },
  {
   "cell_type": "code",
   "execution_count": 11,
   "id": "bc16552c",
   "metadata": {},
   "outputs": [
    {
     "data": {
      "text/html": [
       "<div>\n",
       "<style scoped>\n",
       "    .dataframe tbody tr th:only-of-type {\n",
       "        vertical-align: middle;\n",
       "    }\n",
       "\n",
       "    .dataframe tbody tr th {\n",
       "        vertical-align: top;\n",
       "    }\n",
       "\n",
       "    .dataframe thead th {\n",
       "        text-align: right;\n",
       "    }\n",
       "</style>\n",
       "<table border=\"1\" class=\"dataframe\">\n",
       "  <thead>\n",
       "    <tr style=\"text-align: right;\">\n",
       "      <th></th>\n",
       "      <th>index</th>\n",
       "      <th>seed_file_name</th>\n",
       "      <th>total_distincet_infected_nodes</th>\n",
       "      <th>total_males_in_casc</th>\n",
       "      <th>total_females_in_cas</th>\n",
       "      <th>males_fraction_in_casc</th>\n",
       "      <th>females_fraction_in_casc</th>\n",
       "      <th>fairness_score_value</th>\n",
       "      <th>seed_length</th>\n",
       "    </tr>\n",
       "  </thead>\n",
       "  <tbody>\n",
       "    <tr>\n",
       "      <th>0</th>\n",
       "      <td>0</td>\n",
       "      <td>../Data/Weibo/Seeds/final_seeds_5g_05a_200s.txt</td>\n",
       "      <td>356184</td>\n",
       "      <td>147301</td>\n",
       "      <td>208883</td>\n",
       "      <td>0.4136</td>\n",
       "      <td>0.5864</td>\n",
       "      <td>0.3591</td>\n",
       "      <td>200</td>\n",
       "    </tr>\n",
       "    <tr>\n",
       "      <th>1</th>\n",
       "      <td>1</td>\n",
       "      <td>../Data/Weibo/Seeds/final_seeds_5g_05a_500s.txt</td>\n",
       "      <td>445120</td>\n",
       "      <td>186457</td>\n",
       "      <td>258663</td>\n",
       "      <td>0.4189</td>\n",
       "      <td>0.5811</td>\n",
       "      <td>0.3670</td>\n",
       "      <td>500</td>\n",
       "    </tr>\n",
       "    <tr>\n",
       "      <th>2</th>\n",
       "      <td>2</td>\n",
       "      <td>../Data/Weibo/Seeds/final_seeds_5g_05a_100s.txt</td>\n",
       "      <td>244741</td>\n",
       "      <td>103843</td>\n",
       "      <td>140898</td>\n",
       "      <td>0.4243</td>\n",
       "      <td>0.5757</td>\n",
       "      <td>0.3753</td>\n",
       "      <td>100</td>\n",
       "    </tr>\n",
       "  </tbody>\n",
       "</table>\n",
       "</div>"
      ],
      "text/plain": [
       "   index                                   seed_file_name  \\\n",
       "0      0  ../Data/Weibo/Seeds/final_seeds_5g_05a_200s.txt   \n",
       "1      1  ../Data/Weibo/Seeds/final_seeds_5g_05a_500s.txt   \n",
       "2      2  ../Data/Weibo/Seeds/final_seeds_5g_05a_100s.txt   \n",
       "\n",
       "   total_distincet_infected_nodes  total_males_in_casc  total_females_in_cas  \\\n",
       "0                          356184               147301                208883   \n",
       "1                          445120               186457                258663   \n",
       "2                          244741               103843                140898   \n",
       "\n",
       "   males_fraction_in_casc  females_fraction_in_casc  fairness_score_value  \\\n",
       "0                  0.4136                    0.5864                0.3591   \n",
       "1                  0.4189                    0.5811                0.3670   \n",
       "2                  0.4243                    0.5757                0.3753   \n",
       "\n",
       "   seed_length  \n",
       "0          200  \n",
       "1          500  \n",
       "2          100  "
      ]
     },
     "execution_count": 11,
     "metadata": {},
     "output_type": "execute_result"
    }
   ],
   "source": [
    "df['seed_length'] = df['seed_file_name'].apply(get_seed_length)\n",
    "df.head(3)"
   ]
  },
  {
   "cell_type": "markdown",
   "id": "f3e3a526",
   "metadata": {},
   "source": [
    "## Train Max Bound:"
   ]
  },
  {
   "cell_type": "markdown",
   "id": "ad035fc8",
   "metadata": {},
   "source": [
    "```\n",
    "TRAIN CASCADE: Max bound on infectors by seed size 100 = 925411\n",
    "TRAIN CASCADE: Max bound on infectors by seed size 200 = 983485\n",
    "TRAIN CASCADE: Max bound on infectors by seed size 300 = 1011755\n",
    "TRAIN CASCADE: Max bound on infectors by seed size 400 = 1029062\n",
    "TRAIN CASCADE: Max bound on infectors by seed size 500 = 1041105\n",
    "\n",
    "TRAIN CASCADE: Max bound on fairness by seed size 100 is 0.9969 with 39160 infectors\n",
    "TRAIN CASCADE: Max bound on fairness by seed size 200 is 0.9917 with 163816 infectors\n",
    "TRAIN CASCADE: Max bound on fairness by seed size 300 is 0.9941 with 207317 infectors\n",
    "TRAIN CASCADE: Max bound on fairness by seed size 400 is 0.985 with 272893 infectors\n",
    "TRAIN CASCADE: Max bound on fairness by seed size 500 is 0.9887 with 322362 infectors\n",
    "```"
   ]
  },
  {
   "cell_type": "code",
   "execution_count": 12,
   "id": "92da5f84",
   "metadata": {},
   "outputs": [],
   "source": [
    "train_seed_max_bound_dict = {\n",
    "    '100': [925411, 0.9969],\n",
    "    '200': [983485, 0.9917],\n",
    "    '300': [1011755, 0.9941],\n",
    "    '400': [1029062, 0.985],       \n",
    "    '500': [1041105, 0.9887]\n",
    "}"
   ]
  },
  {
   "cell_type": "markdown",
   "id": "5b49b487",
   "metadata": {},
   "source": [
    "## Test Max Bound:"
   ]
  },
  {
   "cell_type": "markdown",
   "id": "3c1fb4c8",
   "metadata": {},
   "source": [
    "```\n",
    "TEST CASCADE: Max bound on infectors by seed size 100 = 429435\n",
    "TEST CASCADE: Max bound on infectors by seed size 200 = 496695\n",
    "TEST CASCADE: Max bound on infectors by seed size 300 = 531831\n",
    "TEST CASCADE: Max bound on infectors by seed size 400 = 554362\n",
    "TEST CASCADE: Max bound on infectors by seed size 500 = 569986\n",
    "\n",
    "TEST CASCADE: Max bound on fairness by seed size 100 is 0.992 with 57226 infectors\n",
    "TEST CASCADE: Max bound on fairness by seed size 200 is 0.9976 with 79471 infectors\n",
    "TEST CASCADE: Max bound on fairness by seed size 300 is 0.9883 with 117896 infectors\n",
    "TEST CASCADE: Max bound on fairness by seed size 400 is 0.9824 with 137874 infectors\n",
    "TEST CASCADE: Max bound on fairness by seed size 500 is 0.9998 with 188638 infectors\n",
    "```"
   ]
  },
  {
   "cell_type": "code",
   "execution_count": 14,
   "id": "c23c2984",
   "metadata": {},
   "outputs": [],
   "source": [
    "test_seed_max_bound_dict = {\n",
    "    '100': [429435, 0.992],\n",
    "    '200': [496695, 0.9976],\n",
    "    '300': [531831, 0.9883],\n",
    "    '400': [554362, 0.9824],       \n",
    "    '500': [569986, 0.9998]\n",
    "}"
   ]
  },
  {
   "cell_type": "code",
   "execution_count": 15,
   "id": "e94d5399",
   "metadata": {},
   "outputs": [
    {
     "data": {
      "text/plain": [
       "Index(['index', 'seed_file_name', 'total_distincet_infected_nodes',\n",
       "       'total_males_in_casc', 'total_females_in_cas', 'males_fraction_in_casc',\n",
       "       'females_fraction_in_casc', 'fairness_score_value', 'seed_length'],\n",
       "      dtype='object')"
      ]
     },
     "execution_count": 15,
     "metadata": {},
     "output_type": "execute_result"
    }
   ],
   "source": [
    "df.columns"
   ]
  },
  {
   "cell_type": "code",
   "execution_count": 18,
   "id": "06b9bff0",
   "metadata": {},
   "outputs": [
    {
     "name": "stdout",
     "output_type": "stream",
     "text": [
      "1.0\n",
      "0.5\n"
     ]
    }
   ],
   "source": [
    "def get_objective_value(total_distincet_infected_nodes, fairness_score_value, seed_length):\n",
    "    max_fairness = test_seed_max_bound_dict[str(seed_length)][1]\n",
    "    max_infected = test_seed_max_bound_dict[str(seed_length)][0]    \n",
    "    fairness_frac = fairness_score_value / max_fairness\n",
    "    infected_frac = total_distincet_infected_nodes / max_infected\n",
    "#     print(max_infected, max_fairness,  fairness_frac, infected_frac )\n",
    "    objective_value = (fairness_frac + infected_frac)/2\n",
    "    return np.round(objective_value, 4)\n",
    "\n",
    "print(get_objective_value(429435, 0.992, '100'))\n",
    "print(get_objective_value(429435/2, 0.992/2, '100'))"
   ]
  },
  {
   "cell_type": "code",
   "execution_count": 19,
   "id": "825f7b4a",
   "metadata": {},
   "outputs": [
    {
     "data": {
      "text/html": [
       "<div>\n",
       "<style scoped>\n",
       "    .dataframe tbody tr th:only-of-type {\n",
       "        vertical-align: middle;\n",
       "    }\n",
       "\n",
       "    .dataframe tbody tr th {\n",
       "        vertical-align: top;\n",
       "    }\n",
       "\n",
       "    .dataframe thead th {\n",
       "        text-align: right;\n",
       "    }\n",
       "</style>\n",
       "<table border=\"1\" class=\"dataframe\">\n",
       "  <thead>\n",
       "    <tr style=\"text-align: right;\">\n",
       "      <th></th>\n",
       "      <th>index</th>\n",
       "      <th>seed_file_name</th>\n",
       "      <th>total_distincet_infected_nodes</th>\n",
       "      <th>total_males_in_casc</th>\n",
       "      <th>total_females_in_cas</th>\n",
       "      <th>males_fraction_in_casc</th>\n",
       "      <th>females_fraction_in_casc</th>\n",
       "      <th>fairness_score_value</th>\n",
       "      <th>seed_length</th>\n",
       "      <th>objective_value</th>\n",
       "    </tr>\n",
       "  </thead>\n",
       "  <tbody>\n",
       "    <tr>\n",
       "      <th>0</th>\n",
       "      <td>0</td>\n",
       "      <td>../Data/Weibo/Seeds/final_seeds_5g_05a_200s.txt</td>\n",
       "      <td>356184</td>\n",
       "      <td>147301</td>\n",
       "      <td>208883</td>\n",
       "      <td>0.4136</td>\n",
       "      <td>0.5864</td>\n",
       "      <td>0.3591</td>\n",
       "      <td>200</td>\n",
       "      <td>0.5385</td>\n",
       "    </tr>\n",
       "    <tr>\n",
       "      <th>1</th>\n",
       "      <td>1</td>\n",
       "      <td>../Data/Weibo/Seeds/final_seeds_5g_05a_500s.txt</td>\n",
       "      <td>445120</td>\n",
       "      <td>186457</td>\n",
       "      <td>258663</td>\n",
       "      <td>0.4189</td>\n",
       "      <td>0.5811</td>\n",
       "      <td>0.3670</td>\n",
       "      <td>500</td>\n",
       "      <td>0.5740</td>\n",
       "    </tr>\n",
       "    <tr>\n",
       "      <th>2</th>\n",
       "      <td>2</td>\n",
       "      <td>../Data/Weibo/Seeds/final_seeds_5g_05a_100s.txt</td>\n",
       "      <td>244741</td>\n",
       "      <td>103843</td>\n",
       "      <td>140898</td>\n",
       "      <td>0.4243</td>\n",
       "      <td>0.5757</td>\n",
       "      <td>0.3753</td>\n",
       "      <td>100</td>\n",
       "      <td>0.4741</td>\n",
       "    </tr>\n",
       "  </tbody>\n",
       "</table>\n",
       "</div>"
      ],
      "text/plain": [
       "   index                                   seed_file_name  \\\n",
       "0      0  ../Data/Weibo/Seeds/final_seeds_5g_05a_200s.txt   \n",
       "1      1  ../Data/Weibo/Seeds/final_seeds_5g_05a_500s.txt   \n",
       "2      2  ../Data/Weibo/Seeds/final_seeds_5g_05a_100s.txt   \n",
       "\n",
       "   total_distincet_infected_nodes  total_males_in_casc  total_females_in_cas  \\\n",
       "0                          356184               147301                208883   \n",
       "1                          445120               186457                258663   \n",
       "2                          244741               103843                140898   \n",
       "\n",
       "   males_fraction_in_casc  females_fraction_in_casc  fairness_score_value  \\\n",
       "0                  0.4136                    0.5864                0.3591   \n",
       "1                  0.4189                    0.5811                0.3670   \n",
       "2                  0.4243                    0.5757                0.3753   \n",
       "\n",
       "   seed_length  objective_value  \n",
       "0          200           0.5385  \n",
       "1          500           0.5740  \n",
       "2          100           0.4741  "
      ]
     },
     "execution_count": 19,
     "metadata": {},
     "output_type": "execute_result"
    }
   ],
   "source": [
    "df['objective_value'] = df.apply(lambda x: get_objective_value(x.total_distincet_infected_nodes, x.fairness_score_value, x.seed_length), axis=1)\n",
    "df.head(3)"
   ]
  },
  {
   "cell_type": "code",
   "execution_count": 20,
   "id": "8b4afe4e",
   "metadata": {},
   "outputs": [
    {
     "data": {
      "text/html": [
       "<div>\n",
       "<style scoped>\n",
       "    .dataframe tbody tr th:only-of-type {\n",
       "        vertical-align: middle;\n",
       "    }\n",
       "\n",
       "    .dataframe tbody tr th {\n",
       "        vertical-align: top;\n",
       "    }\n",
       "\n",
       "    .dataframe thead th {\n",
       "        text-align: right;\n",
       "    }\n",
       "</style>\n",
       "<table border=\"1\" class=\"dataframe\">\n",
       "  <thead>\n",
       "    <tr style=\"text-align: right;\">\n",
       "      <th></th>\n",
       "      <th>index</th>\n",
       "      <th>seed_file_name</th>\n",
       "      <th>total_distincet_infected_nodes</th>\n",
       "      <th>total_males_in_casc</th>\n",
       "      <th>total_females_in_cas</th>\n",
       "      <th>males_fraction_in_casc</th>\n",
       "      <th>females_fraction_in_casc</th>\n",
       "      <th>fairness_score_value</th>\n",
       "      <th>seed_length</th>\n",
       "      <th>objective_value</th>\n",
       "    </tr>\n",
       "  </thead>\n",
       "  <tbody>\n",
       "    <tr>\n",
       "      <th>2</th>\n",
       "      <td>2</td>\n",
       "      <td>../Data/Weibo/Seeds/final_seeds_5g_05a_100s.txt</td>\n",
       "      <td>244741</td>\n",
       "      <td>103843</td>\n",
       "      <td>140898</td>\n",
       "      <td>0.4243</td>\n",
       "      <td>0.5757</td>\n",
       "      <td>0.3753</td>\n",
       "      <td>100</td>\n",
       "      <td>0.4741</td>\n",
       "    </tr>\n",
       "    <tr>\n",
       "      <th>0</th>\n",
       "      <td>0</td>\n",
       "      <td>../Data/Weibo/Seeds/final_seeds_5g_05a_200s.txt</td>\n",
       "      <td>356184</td>\n",
       "      <td>147301</td>\n",
       "      <td>208883</td>\n",
       "      <td>0.4136</td>\n",
       "      <td>0.5864</td>\n",
       "      <td>0.3591</td>\n",
       "      <td>200</td>\n",
       "      <td>0.5385</td>\n",
       "    </tr>\n",
       "    <tr>\n",
       "      <th>3</th>\n",
       "      <td>3</td>\n",
       "      <td>../Data/Weibo/Seeds/final_seeds_5g_05a_300s.txt</td>\n",
       "      <td>397408</td>\n",
       "      <td>165261</td>\n",
       "      <td>232147</td>\n",
       "      <td>0.4158</td>\n",
       "      <td>0.5842</td>\n",
       "      <td>0.3625</td>\n",
       "      <td>300</td>\n",
       "      <td>0.5570</td>\n",
       "    </tr>\n",
       "    <tr>\n",
       "      <th>4</th>\n",
       "      <td>4</td>\n",
       "      <td>../Data/Weibo/Seeds/final_seeds_5g_05a_400s.txt</td>\n",
       "      <td>414687</td>\n",
       "      <td>173592</td>\n",
       "      <td>241095</td>\n",
       "      <td>0.4186</td>\n",
       "      <td>0.5814</td>\n",
       "      <td>0.3666</td>\n",
       "      <td>400</td>\n",
       "      <td>0.5606</td>\n",
       "    </tr>\n",
       "    <tr>\n",
       "      <th>1</th>\n",
       "      <td>1</td>\n",
       "      <td>../Data/Weibo/Seeds/final_seeds_5g_05a_500s.txt</td>\n",
       "      <td>445120</td>\n",
       "      <td>186457</td>\n",
       "      <td>258663</td>\n",
       "      <td>0.4189</td>\n",
       "      <td>0.5811</td>\n",
       "      <td>0.3670</td>\n",
       "      <td>500</td>\n",
       "      <td>0.5740</td>\n",
       "    </tr>\n",
       "  </tbody>\n",
       "</table>\n",
       "</div>"
      ],
      "text/plain": [
       "   index                                   seed_file_name  \\\n",
       "2      2  ../Data/Weibo/Seeds/final_seeds_5g_05a_100s.txt   \n",
       "0      0  ../Data/Weibo/Seeds/final_seeds_5g_05a_200s.txt   \n",
       "3      3  ../Data/Weibo/Seeds/final_seeds_5g_05a_300s.txt   \n",
       "4      4  ../Data/Weibo/Seeds/final_seeds_5g_05a_400s.txt   \n",
       "1      1  ../Data/Weibo/Seeds/final_seeds_5g_05a_500s.txt   \n",
       "\n",
       "   total_distincet_infected_nodes  total_males_in_casc  total_females_in_cas  \\\n",
       "2                          244741               103843                140898   \n",
       "0                          356184               147301                208883   \n",
       "3                          397408               165261                232147   \n",
       "4                          414687               173592                241095   \n",
       "1                          445120               186457                258663   \n",
       "\n",
       "   males_fraction_in_casc  females_fraction_in_casc  fairness_score_value  \\\n",
       "2                  0.4243                    0.5757                0.3753   \n",
       "0                  0.4136                    0.5864                0.3591   \n",
       "3                  0.4158                    0.5842                0.3625   \n",
       "4                  0.4186                    0.5814                0.3666   \n",
       "1                  0.4189                    0.5811                0.3670   \n",
       "\n",
       "   seed_length  objective_value  \n",
       "2          100           0.4741  \n",
       "0          200           0.5385  \n",
       "3          300           0.5570  \n",
       "4          400           0.5606  \n",
       "1          500           0.5740  "
      ]
     },
     "execution_count": 20,
     "metadata": {},
     "output_type": "execute_result"
    }
   ],
   "source": [
    "df2 = df.sort_values(['seed_length', 'objective_value'])\n",
    "df2"
   ]
  },
  {
   "cell_type": "code",
   "execution_count": 22,
   "id": "79cab33b",
   "metadata": {},
   "outputs": [],
   "source": [
    "df2.to_csv('./sorted_test_objective_values_IMINFECTOR_GENDER.csv', index = False)"
   ]
  },
  {
   "cell_type": "code",
   "execution_count": null,
   "id": "8b5c379e",
   "metadata": {},
   "outputs": [],
   "source": []
  }
 ],
 "metadata": {
  "kernelspec": {
   "display_name": "conda_python3",
   "language": "python",
   "name": "conda_python3"
  },
  "language_info": {
   "codemirror_mode": {
    "name": "ipython",
    "version": 3
   },
   "file_extension": ".py",
   "mimetype": "text/x-python",
   "name": "python",
   "nbconvert_exporter": "python",
   "pygments_lexer": "ipython3",
   "version": "3.6.13"
  }
 },
 "nbformat": 4,
 "nbformat_minor": 5
}
