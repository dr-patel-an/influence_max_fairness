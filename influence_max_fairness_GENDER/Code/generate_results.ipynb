{
 "cells": [
  {
   "cell_type": "code",
   "execution_count": 4,
   "id": "civilian-remark",
   "metadata": {},
   "outputs": [],
   "source": [
    "#!pip install python-igraph"
   ]
  },
  {
   "cell_type": "code",
   "execution_count": 5,
   "id": "competitive-panic",
   "metadata": {},
   "outputs": [],
   "source": [
    "#!pip install tensorflow==1.15.2"
   ]
  },
  {
   "cell_type": "code",
   "execution_count": 10,
   "id": "angry-performance",
   "metadata": {},
   "outputs": [],
   "source": [
    "import time\n",
    "import re\n",
    "import os\n",
    "import sys\n",
    "import numpy as np\n",
    "import extract_feats_and_trainset_v2\n",
    "import preprocess_for_imm\n",
    "import rank_nodes\n",
    "import infector\n",
    "import iminfector_v2\n",
    "# import evaluation2"
   ]
  },
  {
   "cell_type": "code",
   "execution_count": 11,
   "id": "earlier-uruguay",
   "metadata": {},
   "outputs": [],
   "source": [
    "beta_values = [0.1, 0.5, 1, 3, 5, 7]\n",
    "alpha = 0.5\n",
    "all_seeds = [250, 500, 750, 1000, 1250] \n",
    "learning_rate = 0.1\n",
    "n_epochs = 5\n",
    "embedding_size = 50\n",
    "num_neg_samples = 10\n",
    "log = open(\"time_log2.txt\",\"a\")\n",
    "fn = 'weibo'"
   ]
  },
  {
   "cell_type": "markdown",
   "id": "optical-owner",
   "metadata": {},
   "source": [
    "## final_seeds_filename:\n",
    "+ convention: final_seed-{distribution}g-{alpha}a-{seed}s-{beta}b.txt\n",
    "+ Example: final_seed-5g-0.5a-250s-5b.txt "
   ]
  },
  {
   "cell_type": "code",
   "execution_count": 5,
   "id": "enhanced-yesterday",
   "metadata": {},
   "outputs": [
    {
     "name": "stdout",
     "output_type": "stream",
     "text": [
      "Current working directory for the code /home/ec2-user/SageMaker/IMINFECTOR_APPROACH3/Influence-Maximization-via-Representation-Learning\n"
     ]
    },
    {
     "ename": "FileNotFoundError",
     "evalue": "[Errno 2] No such file or directory: 'Weibo/Init_Data/train_set.txt'",
     "output_type": "error",
     "traceback": [
      "\u001b[0;31m---------------------------------------------------------------------------\u001b[0m",
      "\u001b[0;31mFileNotFoundError\u001b[0m                         Traceback (most recent call last)",
      "\u001b[0;32m<ipython-input-5-046c6e5dabb1>\u001b[0m in \u001b[0;36m<module>\u001b[0;34m\u001b[0m\n\u001b[1;32m     10\u001b[0m         \u001b[0mfinal_seeds_filename\u001b[0m \u001b[0;34m=\u001b[0m \u001b[0;34m\"Weibo/Seeds/final_seeds_5g_05a_{}s_{}b\"\u001b[0m\u001b[0;34m.\u001b[0m\u001b[0mformat\u001b[0m\u001b[0;34m(\u001b[0m\u001b[0mseed_size\u001b[0m\u001b[0;34m,\u001b[0m \u001b[0mbeta_value\u001b[0m\u001b[0;34m)\u001b[0m\u001b[0;34m\u001b[0m\u001b[0;34m\u001b[0m\u001b[0m\n\u001b[1;32m     11\u001b[0m         \u001b[0mfinal_seeds_filename\u001b[0m \u001b[0;34m=\u001b[0m \u001b[0mre\u001b[0m\u001b[0;34m.\u001b[0m\u001b[0msub\u001b[0m\u001b[0;34m(\u001b[0m\u001b[0;34m'[.]'\u001b[0m\u001b[0;34m,\u001b[0m \u001b[0;34m'_'\u001b[0m\u001b[0;34m,\u001b[0m \u001b[0mfinal_seeds_filename\u001b[0m\u001b[0;34m)\u001b[0m \u001b[0;34m+\u001b[0m \u001b[0;34m\".txt\"\u001b[0m\u001b[0;34m\u001b[0m\u001b[0;34m\u001b[0m\u001b[0m\n\u001b[0;32m---> 12\u001b[0;31m         \u001b[0minfector2\u001b[0m\u001b[0;34m.\u001b[0m\u001b[0mrun\u001b[0m\u001b[0;34m(\u001b[0m\u001b[0mfn\u001b[0m\u001b[0;34m,\u001b[0m\u001b[0mlearning_rate\u001b[0m\u001b[0;34m,\u001b[0m\u001b[0mn_epochs\u001b[0m\u001b[0;34m,\u001b[0m\u001b[0membedding_size\u001b[0m\u001b[0;34m,\u001b[0m\u001b[0mnum_neg_samples\u001b[0m\u001b[0;34m,\u001b[0m\u001b[0mlog\u001b[0m\u001b[0;34m,\u001b[0m \u001b[0mbeta_value\u001b[0m\u001b[0;34m)\u001b[0m\u001b[0;34m\u001b[0m\u001b[0;34m\u001b[0m\u001b[0m\n\u001b[0m\u001b[1;32m     13\u001b[0m         \u001b[0miminfector2\u001b[0m\u001b[0;34m.\u001b[0m\u001b[0mrun\u001b[0m\u001b[0;34m(\u001b[0m\u001b[0mfn\u001b[0m\u001b[0;34m,\u001b[0m \u001b[0membedding_size\u001b[0m\u001b[0;34m,\u001b[0m \u001b[0mlog\u001b[0m\u001b[0;34m,\u001b[0m \u001b[0mseed_size\u001b[0m\u001b[0;34m,\u001b[0m \u001b[0mfinal_seeds_filename\u001b[0m\u001b[0;34m)\u001b[0m\u001b[0;34m\u001b[0m\u001b[0;34m\u001b[0m\u001b[0m\n\u001b[1;32m     14\u001b[0m         \u001b[0mprint\u001b[0m\u001b[0;34m(\u001b[0m\u001b[0;34m\"Time taken for the execution and writing \"\u001b[0m\u001b[0;34m+\u001b[0m \u001b[0mfinal_seeds_filename\u001b[0m \u001b[0;34m+\u001b[0m \u001b[0;34m\": \"\u001b[0m \u001b[0;34m+\u001b[0m \u001b[0mstr\u001b[0m\u001b[0;34m(\u001b[0m\u001b[0mnp\u001b[0m\u001b[0;34m.\u001b[0m\u001b[0mround\u001b[0m\u001b[0;34m(\u001b[0m\u001b[0mfloat\u001b[0m\u001b[0;34m(\u001b[0m\u001b[0mtime\u001b[0m\u001b[0;34m.\u001b[0m\u001b[0mtime\u001b[0m\u001b[0;34m(\u001b[0m\u001b[0;34m)\u001b[0m\u001b[0;34m-\u001b[0m\u001b[0mstart\u001b[0m\u001b[0;34m)\u001b[0m\u001b[0;34m,\u001b[0m \u001b[0;36m3\u001b[0m\u001b[0;34m)\u001b[0m\u001b[0;34m)\u001b[0m\u001b[0;34m)\u001b[0m\u001b[0;34m\u001b[0m\u001b[0;34m\u001b[0m\u001b[0m\n",
      "\u001b[0;32m~/SageMaker/IMINFECTOR_APPROACH3/Influence-Maximization-via-Representation-Learning/infector2.py\u001b[0m in \u001b[0;36mrun\u001b[0;34m(fn, learning_rate, n_epochs, embedding_size, num_neg_samples, log, beta_value)\u001b[0m\n\u001b[1;32m    246\u001b[0m     \u001b[0minfector\u001b[0m \u001b[0;34m=\u001b[0m \u001b[0mINFECTOR\u001b[0m\u001b[0;34m(\u001b[0m\u001b[0mfn\u001b[0m\u001b[0;34m,\u001b[0m\u001b[0mlearning_rate\u001b[0m\u001b[0;34m,\u001b[0m\u001b[0mn_epochs\u001b[0m\u001b[0;34m,\u001b[0m\u001b[0membedding_size\u001b[0m\u001b[0;34m,\u001b[0m\u001b[0mnum_neg_samples\u001b[0m\u001b[0;34m,\u001b[0m \u001b[0mbeta_value\u001b[0m\u001b[0;34m)\u001b[0m\u001b[0;34m\u001b[0m\u001b[0;34m\u001b[0m\u001b[0m\n\u001b[1;32m    247\u001b[0m \u001b[0;34m\u001b[0m\u001b[0m\n\u001b[0;32m--> 248\u001b[0;31m     \u001b[0minfector\u001b[0m\u001b[0;34m.\u001b[0m\u001b[0mcreate_dicts\u001b[0m\u001b[0;34m(\u001b[0m\u001b[0;34m)\u001b[0m\u001b[0;34m\u001b[0m\u001b[0;34m\u001b[0m\u001b[0m\n\u001b[0m\u001b[1;32m    249\u001b[0m \u001b[0;34m\u001b[0m\u001b[0m\n\u001b[1;32m    250\u001b[0m     \u001b[0minfector\u001b[0m\u001b[0;34m.\u001b[0m\u001b[0mmodel\u001b[0m\u001b[0;34m(\u001b[0m\u001b[0;34m)\u001b[0m\u001b[0;34m\u001b[0m\u001b[0;34m\u001b[0m\u001b[0m\n",
      "\u001b[0;32m~/SageMaker/IMINFECTOR_APPROACH3/Influence-Maximization-via-Representation-Learning/infector2.py\u001b[0m in \u001b[0;36mcreate_dicts\u001b[0;34m(self)\u001b[0m\n\u001b[1;32m     30\u001b[0m         \"\"\"\n\u001b[1;32m     31\u001b[0m \u001b[0;31m#        f = open(self.fn+\"/train_set.txt\",\"r\") # CHANDU: Updated\u001b[0m\u001b[0;34m\u001b[0m\u001b[0;34m\u001b[0m\u001b[0;34m\u001b[0m\u001b[0m\n\u001b[0;32m---> 32\u001b[0;31m         \u001b[0mf\u001b[0m \u001b[0;34m=\u001b[0m \u001b[0mopen\u001b[0m\u001b[0;34m(\u001b[0m\u001b[0mself\u001b[0m\u001b[0;34m.\u001b[0m\u001b[0mfn\u001b[0m\u001b[0;34m.\u001b[0m\u001b[0mcapitalize\u001b[0m\u001b[0;34m(\u001b[0m\u001b[0;34m)\u001b[0m\u001b[0;34m+\u001b[0m\u001b[0;34m\"/Init_Data/train_set.txt\"\u001b[0m\u001b[0;34m,\u001b[0m\u001b[0;34m\"r\"\u001b[0m\u001b[0;34m)\u001b[0m\u001b[0;34m\u001b[0m\u001b[0;34m\u001b[0m\u001b[0m\n\u001b[0m\u001b[1;32m     33\u001b[0m         \u001b[0minitiators\u001b[0m \u001b[0;34m=\u001b[0m \u001b[0;34m[\u001b[0m\u001b[0;34m]\u001b[0m\u001b[0;34m\u001b[0m\u001b[0;34m\u001b[0m\u001b[0m\n\u001b[1;32m     34\u001b[0m         \u001b[0mself\u001b[0m\u001b[0;34m.\u001b[0m\u001b[0mmi\u001b[0m \u001b[0;34m=\u001b[0m \u001b[0mnp\u001b[0m\u001b[0;34m.\u001b[0m\u001b[0minf\u001b[0m\u001b[0;34m\u001b[0m\u001b[0;34m\u001b[0m\u001b[0m\n",
      "\u001b[0;31mFileNotFoundError\u001b[0m: [Errno 2] No such file or directory: 'Weibo/Init_Data/train_set.txt'"
     ]
    }
   ],
   "source": [
    "times = []\n",
    "for beta_value in beta_values:\n",
    "    for seed_size in all_seeds:\n",
    "#         abspath = os.path.abspath(__file__)\n",
    "#         dname = os.path.dirname(abspath)\n",
    "#         os.chdir(os.path.join(dname,\"..\",\"Data\"))\n",
    "        print('Current working directory for the code', os.getcwd()) # CHANDU: Updated\n",
    "        start = time.time()\n",
    "#         time.sleep(beta_value)\n",
    "        final_seeds_filename = \"Weibo/Seeds/final_seeds_5g_05a_{}s_{}b\".format(seed_size, beta_value)\n",
    "        final_seeds_filename = re.sub('[.]', '_', final_seeds_filename) + \".txt\" \n",
    "        \n",
    "        extract_feats_and_trainset_v2.run(fn,sampling_perc,log, beta)\n",
    "        preprocess_for_imm.run(fn,log)\n",
    "        rank_nodes.run(fn) \n",
    "        infector.run(fn,learning_rate,n_epochs,embedding_size,num_neg_samples,log)\n",
    "        iminfector_v2.run(fn, embedding_size, log, seed_size, final_seeds_filename)    \n",
    "        print(\"Time taken for the execution and writing \"+ final_seeds_filename + \": \" + str(np.round(float(time.time()-start), 3)))\n",
    "        times.append([final_seeds_filename, np.round(float(time.time()-start), 3)])\n",
    "        \n",
    "log.close()\n",
    "times        "
   ]
  },
  {
   "cell_type": "code",
   "execution_count": null,
   "id": "capital-marina",
   "metadata": {},
   "outputs": [],
   "source": [
    "# beta_values = [0.1, 0.5, 1, 3, 5, 7]\n",
    "# casc_len = 100\n",
    "# fair_values = [0, 0.1,  0.5,  0.9, 0.999]\n",
    "# for b in beta_values:\n",
    "#     for f in fair_values:\n",
    "#         print('beta = {}, fairness_score = {}, loop_times = {}'.format(b, f, int(np.ceil(casc_len * (f ** b)))))"
   ]
  },
  {
   "cell_type": "code",
   "execution_count": null,
   "id": "mighty-reunion",
   "metadata": {},
   "outputs": [],
   "source": []
  }
 ],
 "metadata": {
  "kernelspec": {
   "display_name": "conda_python3",
   "language": "python",
   "name": "conda_python3"
  },
  "language_info": {
   "codemirror_mode": {
    "name": "ipython",
    "version": 3
   },
   "file_extension": ".py",
   "mimetype": "text/x-python",
   "name": "python",
   "nbconvert_exporter": "python",
   "pygments_lexer": "ipython3",
   "version": "3.6.13"
  }
 },
 "nbformat": 4,
 "nbformat_minor": 5
}
