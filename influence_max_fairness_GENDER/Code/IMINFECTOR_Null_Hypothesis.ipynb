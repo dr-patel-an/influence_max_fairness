{
 "cells": [
  {
   "cell_type": "code",
   "execution_count": 1,
   "id": "realistic-knowing",
   "metadata": {},
   "outputs": [],
   "source": [
    "import pandas as pd\n",
    "import numpy as np\n",
    "import matplotlib.pyplot as plt"
   ]
  },
  {
   "cell_type": "code",
   "execution_count": 2,
   "id": "specified-treatment",
   "metadata": {},
   "outputs": [],
   "source": [
    "seed_file_path = \"../Data/Weibo/Seeds/final_seeds_IMINFECTOR.txt\"\n",
    "seed_file_path2 = \"../Data/Weibo/Seeds/final_seeds_without_L2_L3.txt\""
   ]
  },
  {
   "cell_type": "code",
   "execution_count": 3,
   "id": "divided-kennedy",
   "metadata": {},
   "outputs": [
    {
     "data": {
      "text/plain": [
       "1000"
      ]
     },
     "execution_count": 3,
     "metadata": {},
     "output_type": "execute_result"
    }
   ],
   "source": [
    "f = open(seed_file_path,\"r\")\n",
    "l = f.read().replace(\"\\n\",\" \")\n",
    "seed_set_all = [x for x in l.split(\" \") if x!=''][:1000]\n",
    "f.close()\n",
    "\n",
    "len(seed_set_all)"
   ]
  },
  {
   "cell_type": "code",
   "execution_count": 4,
   "id": "academic-dispute",
   "metadata": {},
   "outputs": [
    {
     "data": {
      "text/plain": [
       "1000"
      ]
     },
     "execution_count": 4,
     "metadata": {},
     "output_type": "execute_result"
    }
   ],
   "source": [
    "f2 = open(seed_file_path2,\"r\")\n",
    "l2 = f2.read().replace(\"\\n\",\" \")\n",
    "seed_set_all2 = [x for x in l2.split(\" \") if x!=''][:1000]\n",
    "f2.close()\n",
    "\n",
    "len(seed_set_all2)"
   ]
  },
  {
   "cell_type": "code",
   "execution_count": 5,
   "id": "virgin-short",
   "metadata": {},
   "outputs": [],
   "source": [
    "seed_set_all_set = set(seed_set_all)\n",
    "seed_set_all2_set = set(seed_set_all2)\n",
    "\n",
    "common_seeds = seed_set_all_set.intersection(seed_set_all2_set)"
   ]
  },
  {
   "cell_type": "code",
   "execution_count": 7,
   "id": "genetic-boxing",
   "metadata": {},
   "outputs": [
    {
     "data": {
      "text/plain": [
       "0.879"
      ]
     },
     "execution_count": 7,
     "metadata": {},
     "output_type": "execute_result"
    }
   ],
   "source": [
    "len(common_seeds)/1000"
   ]
  },
  {
   "cell_type": "code",
   "execution_count": 36,
   "id": "solid-netherlands",
   "metadata": {},
   "outputs": [],
   "source": [
    "def DNI(seed_set_cascades):\n",
    "    \"\"\"\n",
    "    Measure the number of distinct nodes in the test cascades started of the seed set\n",
    "    \"\"\"\n",
    "    combined = set()    \n",
    "    for i in seed_set_cascades.keys():\n",
    "        for j in seed_set_cascades[i]:    \n",
    "            combined = combined.union(j)\n",
    "    return len(combined)"
   ]
  },
  {
   "cell_type": "code",
   "execution_count": 37,
   "id": "driven-germany",
   "metadata": {},
   "outputs": [],
   "source": [
    "def DNI_fairness(seed_set_cascades, gender_dict):\n",
    "    \"\"\"\n",
    "    Measure the fraction of males in the toal cascades\n",
    "    \"\"\"\n",
    "    combined = set()    \n",
    "    for i in seed_set_cascades.keys():\n",
    "        for j in seed_set_cascades[i]:    \n",
    "            combined = combined.union(j)\n",
    "    list_DNI = list(combined)\n",
    "    males = []\n",
    "    females = []\n",
    "    for n in list_DNI:\n",
    "        if gender_dict[n] == '1':\n",
    "            males.append(n)\n",
    "        else:\n",
    "            females.append(n)\n",
    "    \n",
    "    return len(males)/(len(males) + len(females))"
   ]
  },
  {
   "cell_type": "code",
   "execution_count": 38,
   "id": "informational-gregory",
   "metadata": {},
   "outputs": [],
   "source": [
    "def get_gender_dict(path):\n",
    "    with open(path, 'r',  encoding=\"ISO-8859-1\") as f:\n",
    "        contents = f.read()\n",
    "    split_content = contents.split('\\n')\n",
    "    split_content = split_content[0:-1]\n",
    "    split_content_list=[]\n",
    "    for i in split_content:\n",
    "        split_content_list.append(i.split(\",\")[1:])\n",
    "    split_content_list=split_content_list[1:]\n",
    "    \n",
    "    gender_dict = {}\n",
    "    for split_data in split_content_list:\n",
    "        gender_dict[split_data[0]] = split_data[1]\n",
    "    f.close()    \n",
    "    return gender_dict"
   ]
  },
  {
   "cell_type": "code",
   "execution_count": 39,
   "id": "chronic-identification",
   "metadata": {},
   "outputs": [
    {
     "name": "stdout",
     "output_type": "stream",
     "text": [
      "Seeds found : 646\n",
      "Distinct Nodes Infected:  297255\n"
     ]
    }
   ],
   "source": [
    "seed_cascades =  {}\n",
    "seed_set = set()\n",
    "for s in seed_set_all:\n",
    "    seed_cascades[str(s)] = []\n",
    "\n",
    "with open(test_cascade_path) as f:\n",
    "    for line in f:\n",
    "        cascade = line.split(\";\")\n",
    "        op_id = cascade[1].split(\" \")[0]\n",
    "        cascade = set(map(lambda x: x.split(\" \")[0],cascade[2:]))\n",
    "        if op_id in seed_cascades:\n",
    "            seed_cascades[op_id].append(cascade)\n",
    "            seed_set.add(op_id)\n",
    "                         \n",
    "            \n",
    "seed_set_cascades = { seed: seed_cascades[seed] for seed in seed_set if len(seed_cascades[seed])>0 }\n",
    "spreading_DNI = DNI(seed_set_cascades)\n",
    "\n",
    "print(\"Seeds found :\",len(seed_set_cascades))\n",
    "print(\"Distinct Nodes Infected: \", spreading_DNI)\n",
    "f.close()"
   ]
  },
  {
   "cell_type": "code",
   "execution_count": 40,
   "id": "diverse-baltimore",
   "metadata": {},
   "outputs": [],
   "source": [
    "gender_dict = get_gender_dict(gender_profile_path)"
   ]
  },
  {
   "cell_type": "code",
   "execution_count": 41,
   "id": "athletic-mauritius",
   "metadata": {},
   "outputs": [
    {
     "data": {
      "text/plain": [
       "1170873"
      ]
     },
     "execution_count": 41,
     "metadata": {},
     "output_type": "execute_result"
    }
   ],
   "source": [
    "len(gender_dict)"
   ]
  },
  {
   "cell_type": "code",
   "execution_count": 42,
   "id": "covered-medicare",
   "metadata": {},
   "outputs": [
    {
     "data": {
      "text/plain": [
       "0.8070881902743435"
      ]
     },
     "execution_count": 42,
     "metadata": {},
     "output_type": "execute_result"
    }
   ],
   "source": [
    "DNI_fairness(seed_set_cascades, gender_dict)"
   ]
  },
  {
   "cell_type": "code",
   "execution_count": 43,
   "id": "happy-basket",
   "metadata": {},
   "outputs": [],
   "source": [
    "def DNI_fairness_dist(seed_set_cascades, gender_dict):\n",
    "    \"\"\"\n",
    "    Measure the distribution of males in the toal cascades\n",
    "    \"\"\"\n",
    "     \n",
    "    males_dist = []\n",
    "    for i in seed_set_cascades.keys():\n",
    "        for j in seed_set_cascades[i]: \n",
    "            males = []\n",
    "            females = []\n",
    "            for n in j:\n",
    "                if gender_dict[n] == '1':\n",
    "                    males.append(n)\n",
    "                else:\n",
    "                    females.append(n)\n",
    "            males_frac_cascade = len(males)/(len(males) + len(females))\n",
    "            males_dist.append(males_frac_cascade)\n",
    "    return np.array(males_dist)  "
   ]
  },
  {
   "cell_type": "code",
   "execution_count": 44,
   "id": "defined-separation",
   "metadata": {},
   "outputs": [],
   "source": [
    "males_dist = DNI_fairness_dist(seed_set_cascades, gender_dict)"
   ]
  },
  {
   "cell_type": "code",
   "execution_count": 45,
   "id": "contemporary-warning",
   "metadata": {},
   "outputs": [
    {
     "data": {
      "image/png": "[encoded data removed]",
      "text/plain": [
       "<Figure size 1440x720 with 1 Axes>"
      ]
     },
     "metadata": {},
     "output_type": "display_data"
    },
    {
     "data": {
      "text/plain": [
       "<Figure size 432x288 with 0 Axes>"
      ]
     },
     "metadata": {},
     "output_type": "display_data"
    }
   ],
   "source": [
    "plt.figure(figsize=(20,10))\n",
    "plt.style.use('ggplot')\n",
    "plt.hist(males_dist, bins = 50, color = 'teal', alpha = 0.5)\n",
    "plt.xlabel('fraction of males per cascade', fontsize=18, fontweight='bold')\n",
    "plt.xticks(rotation=90)\n",
    "plt.title(\"Distribution of Males Fraction in Test Cascades\",  fontsize=22)\n",
    "plt.tick_params(axis='both', which='major', labelsize=16)\n",
    "plt.show()\n",
    "plt.savefig(\"males_fraction_test_cascades.png\")"
   ]
  },
  {
   "cell_type": "code",
   "execution_count": 50,
   "id": "accredited-literacy",
   "metadata": {},
   "outputs": [
    {
     "data": {
      "text/plain": [
       "0.8020651796660918"
      ]
     },
     "execution_count": 50,
     "metadata": {},
     "output_type": "execute_result"
    }
   ],
   "source": [
    "np.mean(males_dist)"
   ]
  },
  {
   "cell_type": "code",
   "execution_count": 46,
   "id": "built-ivory",
   "metadata": {},
   "outputs": [],
   "source": [
    "def DNI_fairness_dist_by_influencer(seed_set_cascades, gender_dict):\n",
    "    \"\"\"\n",
    "    Measure the distribution of males by influencer\n",
    "    \"\"\"\n",
    "     \n",
    "    males_dist = []\n",
    "    for i in seed_set_cascades.keys():\n",
    "        influencer_spread_set = ()\n",
    "        for j in seed_set_cascades[i]: \n",
    "            influencer_spread_set = influencer_spread_set.union(j)\n",
    "            \n",
    "        males = []\n",
    "        females = []\n",
    "        for n in influencer_spread_set:\n",
    "            if gender_dict[n] == '1':\n",
    "                males.append(n)\n",
    "            else:\n",
    "                females.append(n)\n",
    "        males_frac_cascade = len(males)/(len(males) + len(females))\n",
    "        males_dist.append(males_frac_cascade)\n",
    "    return np.array(males_dist)  "
   ]
  },
  {
   "cell_type": "code",
   "execution_count": 47,
   "id": "prescription-throw",
   "metadata": {},
   "outputs": [],
   "source": [
    "males_dist_by_influencer = DNI_fairness_dist(seed_set_cascades, gender_dict)"
   ]
  },
  {
   "cell_type": "code",
   "execution_count": 48,
   "id": "several-correction",
   "metadata": {},
   "outputs": [
    {
     "data": {
      "image/png": "[encoded data removed]",
      "text/plain": [
       "<Figure size 1440x720 with 1 Axes>"
      ]
     },
     "metadata": {},
     "output_type": "display_data"
    },
    {
     "data": {
      "text/plain": [
       "<Figure size 432x288 with 0 Axes>"
      ]
     },
     "metadata": {},
     "output_type": "display_data"
    }
   ],
   "source": [
    "plt.figure(figsize=(20,10))\n",
    "plt.style.use('ggplot')\n",
    "plt.hist(males_dist_by_influencer, bins = 50, color = 'teal', alpha = 0.5)\n",
    "plt.xlabel('fraction of males infected by influencer', fontsize=18, fontweight='bold')\n",
    "plt.xticks(rotation=90)\n",
    "plt.title(\"Distribution of Infected Males Fraction in Test Cascades\",  fontsize=22)\n",
    "plt.tick_params(axis='both', which='major', labelsize=16)\n",
    "plt.show()\n",
    "plt.savefig(\"males_fraction_test_cascades.png\")"
   ]
  },
  {
   "cell_type": "code",
   "execution_count": null,
   "id": "rotary-measure",
   "metadata": {},
   "outputs": [],
   "source": []
  }
 ],
 "metadata": {
  "kernelspec": {
   "display_name": "conda_python3",
   "language": "python",
   "name": "conda_python3"
  },
  "language_info": {
   "codemirror_mode": {
    "name": "ipython",
    "version": 3
   },
   "file_extension": ".py",
   "mimetype": "text/x-python",
   "name": "python",
   "nbconvert_exporter": "python",
   "pygments_lexer": "ipython3",
   "version": "3.6.10"
  }
 },
 "nbformat": 4,
 "nbformat_minor": 5
}
